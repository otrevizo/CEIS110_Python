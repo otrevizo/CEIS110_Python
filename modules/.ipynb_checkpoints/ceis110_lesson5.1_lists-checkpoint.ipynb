{
 "cells": [
  {
   "cell_type": "markdown",
   "id": "8388bd57-1498-4cdd-aa15-56c0880a34f4",
   "metadata": {},
   "source": [
    "# CEIS110 Module 5.1 - Intro to Lists\n",
    "\n",
    "Author: Oscar A. Trevizo"
   ]
  },
  {
   "cell_type": "markdown",
   "id": "3da2bbe5-0cd4-417a-bf9e-a46fda39746a",
   "metadata": {},
   "source": [
    "Date: March 28, 2024\n",
    "\n",
    "References:\n",
    "\n",
    "- https://docs.python.org/3/tutorial/datastructures.html"
   ]
  },
  {
   "cell_type": "markdown",
   "id": "6ad72914-705f-4f52-a086-64333bc84c2d",
   "metadata": {},
   "source": [
    "# Lists are objects of class 'list'"
   ]
  },
  {
   "cell_type": "code",
   "execution_count": 1,
   "id": "3dbcd2bc-7d40-442b-9b73-e4b90340ff3b",
   "metadata": {},
   "outputs": [
    {
     "data": {
      "text/plain": [
       "['__add__',\n",
       " '__class__',\n",
       " '__class_getitem__',\n",
       " '__contains__',\n",
       " '__delattr__',\n",
       " '__delitem__',\n",
       " '__dir__',\n",
       " '__doc__',\n",
       " '__eq__',\n",
       " '__format__',\n",
       " '__ge__',\n",
       " '__getattribute__',\n",
       " '__getitem__',\n",
       " '__gt__',\n",
       " '__hash__',\n",
       " '__iadd__',\n",
       " '__imul__',\n",
       " '__init__',\n",
       " '__init_subclass__',\n",
       " '__iter__',\n",
       " '__le__',\n",
       " '__len__',\n",
       " '__lt__',\n",
       " '__mul__',\n",
       " '__ne__',\n",
       " '__new__',\n",
       " '__reduce__',\n",
       " '__reduce_ex__',\n",
       " '__repr__',\n",
       " '__reversed__',\n",
       " '__rmul__',\n",
       " '__setattr__',\n",
       " '__setitem__',\n",
       " '__sizeof__',\n",
       " '__str__',\n",
       " '__subclasshook__',\n",
       " 'append',\n",
       " 'clear',\n",
       " 'copy',\n",
       " 'count',\n",
       " 'extend',\n",
       " 'index',\n",
       " 'insert',\n",
       " 'pop',\n",
       " 'remove',\n",
       " 'reverse',\n",
       " 'sort']"
      ]
     },
     "execution_count": 1,
     "metadata": {},
     "output_type": "execute_result"
    }
   ],
   "source": [
    "# dir() will show you methods soported by a class. In this case 'list'\n",
    "dir(list)"
   ]
  },
  {
   "cell_type": "code",
   "execution_count": 2,
   "id": "12d98712-55a5-4499-a666-8fd64bdb1ae1",
   "metadata": {},
   "outputs": [
    {
     "name": "stdout",
     "output_type": "stream",
     "text": [
      "Help on method_descriptor:\n",
      "\n",
      "append(self, object, /)\n",
      "    Append object to the end of the list.\n",
      "\n"
     ]
    }
   ],
   "source": [
    "help(list.append)"
   ]
  },
  {
   "cell_type": "code",
   "execution_count": 3,
   "id": "5764f849-55f3-4432-b1d6-38276909f5de",
   "metadata": {},
   "outputs": [
    {
     "name": "stdout",
     "output_type": "stream",
     "text": [
      "Help on method_descriptor:\n",
      "\n",
      "remove(self, value, /)\n",
      "    Remove first occurrence of value.\n",
      "    \n",
      "    Raises ValueError if the value is not present.\n",
      "\n"
     ]
    }
   ],
   "source": [
    "help(list.remove)"
   ]
  },
  {
   "cell_type": "code",
   "execution_count": 4,
   "id": "1fcf301e-90c3-47cb-8bec-ea572bf7a8ff",
   "metadata": {},
   "outputs": [
    {
     "name": "stdout",
     "output_type": "stream",
     "text": [
      "Help on built-in function len in module builtins:\n",
      "\n",
      "len(obj, /)\n",
      "    Return the number of items in a container.\n",
      "\n"
     ]
    }
   ],
   "source": [
    "help(len)"
   ]
  },
  {
   "cell_type": "markdown",
   "id": "926d33c2-f728-4631-8394-3b5e895b44ec",
   "metadata": {},
   "source": [
    "# List basics"
   ]
  },
  {
   "cell_type": "code",
   "execution_count": 5,
   "id": "36c763e2-7c67-4aab-9694-e6a097aba78e",
   "metadata": {},
   "outputs": [],
   "source": [
    "# List basics\n",
    "my_list = ['apple', 'banana', 'orange', 'pear', 'cherry', 'blackberry']"
   ]
  },
  {
   "cell_type": "code",
   "execution_count": 6,
   "id": "85e39e81-42d0-47dc-a031-5a1993f0b6c1",
   "metadata": {},
   "outputs": [
    {
     "name": "stdout",
     "output_type": "stream",
     "text": [
      "['apple', 'banana', 'orange', 'pear', 'cherry', 'blackberry']\n"
     ]
    }
   ],
   "source": [
    "print(my_list)"
   ]
  },
  {
   "cell_type": "code",
   "execution_count": 7,
   "id": "4dced2f9-24aa-48bc-b044-ce93d425347d",
   "metadata": {},
   "outputs": [
    {
     "data": {
      "text/plain": [
       "list"
      ]
     },
     "execution_count": 7,
     "metadata": {},
     "output_type": "execute_result"
    }
   ],
   "source": [
    "type(my_list)"
   ]
  },
  {
   "cell_type": "code",
   "execution_count": 8,
   "id": "4ac89db4-8baa-4aff-8721-204b29374825",
   "metadata": {},
   "outputs": [
    {
     "data": {
      "text/plain": [
       "6"
      ]
     },
     "execution_count": 8,
     "metadata": {},
     "output_type": "execute_result"
    }
   ],
   "source": [
    "# length of my list is:\n",
    "len(my_list)"
   ]
  },
  {
   "cell_type": "markdown",
   "id": "b2f241ea-547e-4d1c-9d65-64c7b8895e7f",
   "metadata": {},
   "source": [
    "## Concatenating list"
   ]
  },
  {
   "cell_type": "code",
   "execution_count": 9,
   "id": "67b16c22-c2ff-47cf-9754-5426e11235ea",
   "metadata": {},
   "outputs": [],
   "source": [
    "new_list = ['mango', 'avocado']"
   ]
  },
  {
   "cell_type": "code",
   "execution_count": 10,
   "id": "d3a23c6b-df4e-4493-829a-f2728f78574e",
   "metadata": {},
   "outputs": [
    {
     "data": {
      "text/plain": [
       "['mango', 'avocado']"
      ]
     },
     "execution_count": 10,
     "metadata": {},
     "output_type": "execute_result"
    }
   ],
   "source": [
    "new_list"
   ]
  },
  {
   "cell_type": "code",
   "execution_count": 11,
   "id": "13fde056-6c24-4907-afbe-cc4d824aaf1f",
   "metadata": {},
   "outputs": [],
   "source": [
    "conc_list = my_list + new_list"
   ]
  },
  {
   "cell_type": "code",
   "execution_count": 12,
   "id": "7fa807d6-629f-41a9-8c1c-100b692ad2fa",
   "metadata": {},
   "outputs": [
    {
     "data": {
      "text/plain": [
       "['apple',\n",
       " 'banana',\n",
       " 'orange',\n",
       " 'pear',\n",
       " 'cherry',\n",
       " 'blackberry',\n",
       " 'mango',\n",
       " 'avocado']"
      ]
     },
     "execution_count": 12,
     "metadata": {},
     "output_type": "execute_result"
    }
   ],
   "source": [
    "conc_list"
   ]
  },
  {
   "cell_type": "markdown",
   "id": "587932b7-cd4b-4552-9464-6010a86ad9c6",
   "metadata": {},
   "source": [
    "## List indexing"
   ]
  },
  {
   "cell_type": "code",
   "execution_count": 13,
   "id": "ceed358e-f90f-4da0-8b55-1e05639f42fc",
   "metadata": {},
   "outputs": [
    {
     "data": {
      "text/plain": [
       "'apple'"
      ]
     },
     "execution_count": 13,
     "metadata": {},
     "output_type": "execute_result"
    }
   ],
   "source": [
    "my_list[0]"
   ]
  },
  {
   "cell_type": "code",
   "execution_count": 14,
   "id": "e5f31929-d386-4a25-9190-5cb6af6b087a",
   "metadata": {},
   "outputs": [
    {
     "data": {
      "text/plain": [
       "'pear'"
      ]
     },
     "execution_count": 14,
     "metadata": {},
     "output_type": "execute_result"
    }
   ],
   "source": [
    "my_list[3]"
   ]
  },
  {
   "cell_type": "code",
   "execution_count": 16,
   "id": "d81b1565-8a6f-4f08-96e9-9e2aaddfcbe2",
   "metadata": {},
   "outputs": [
    {
     "data": {
      "text/plain": [
       "6"
      ]
     },
     "execution_count": 16,
     "metadata": {},
     "output_type": "execute_result"
    }
   ],
   "source": [
    "len(my_list)"
   ]
  },
  {
   "cell_type": "code",
   "execution_count": 17,
   "id": "4c19d244-3806-4bc9-8951-d3e3e1c266da",
   "metadata": {},
   "outputs": [
    {
     "data": {
      "text/plain": [
       "8"
      ]
     },
     "execution_count": 17,
     "metadata": {},
     "output_type": "execute_result"
    }
   ],
   "source": [
    "len(conc_list)"
   ]
  },
  {
   "cell_type": "code",
   "execution_count": 18,
   "id": "c76dd2a5-5683-4f2d-83a7-b92822b100ea",
   "metadata": {},
   "outputs": [
    {
     "data": {
      "text/plain": [
       "'blackberry'"
      ]
     },
     "execution_count": 18,
     "metadata": {},
     "output_type": "execute_result"
    }
   ],
   "source": [
    "my_list[len(my_list)-1]"
   ]
  },
  {
   "cell_type": "code",
   "execution_count": 19,
   "id": "5dd0ac4d-9f6f-4a55-86cf-e5a23c180ae8",
   "metadata": {},
   "outputs": [
    {
     "data": {
      "text/plain": [
       "'blackberry'"
      ]
     },
     "execution_count": 19,
     "metadata": {},
     "output_type": "execute_result"
    }
   ],
   "source": [
    "my_list[-1]"
   ]
  },
  {
   "cell_type": "code",
   "execution_count": 20,
   "id": "934fc411-6dae-4409-8038-52ef67315e54",
   "metadata": {},
   "outputs": [
    {
     "data": {
      "text/plain": [
       "'avocado'"
      ]
     },
     "execution_count": 20,
     "metadata": {},
     "output_type": "execute_result"
    }
   ],
   "source": [
    "conc_list[-1]"
   ]
  },
  {
   "cell_type": "markdown",
   "id": "cba94b02-0d57-44ef-8d13-0081f0ff4023",
   "metadata": {},
   "source": [
    "## List slicing"
   ]
  },
  {
   "cell_type": "code",
   "execution_count": 21,
   "id": "75dc23df-4cfe-4c72-826d-281172fbd732",
   "metadata": {},
   "outputs": [],
   "source": [
    "# %% Slicing\n",
    "# https://www.geeksforgeeks.org/python-list-slicing/\n",
    "# List slicing examples\n",
    "# List[ Initial : End : IndexJump ]\n",
    "# Initialize list\n",
    "\n",
    "num_list = [0, 1, 1, 2, 3, 5, 8, 13, 21]\n"
   ]
  },
  {
   "cell_type": "code",
   "execution_count": 22,
   "id": "bc3b5541-26e6-48aa-a299-ac967912e334",
   "metadata": {},
   "outputs": [
    {
     "data": {
      "text/plain": [
       "[0, 1, 1, 2, 3, 5, 8, 13, 21]"
      ]
     },
     "execution_count": 22,
     "metadata": {},
     "output_type": "execute_result"
    }
   ],
   "source": [
    "num_list"
   ]
  },
  {
   "cell_type": "code",
   "execution_count": 23,
   "id": "19f0384d-f64b-49ab-9505-fe99f25587ce",
   "metadata": {},
   "outputs": [
    {
     "data": {
      "text/plain": [
       "list"
      ]
     },
     "execution_count": 23,
     "metadata": {},
     "output_type": "execute_result"
    }
   ],
   "source": [
    "type(num_list)"
   ]
  },
  {
   "cell_type": "code",
   "execution_count": 24,
   "id": "43f1b60b-f113-4bad-9e9b-fb2b7eae3f79",
   "metadata": {},
   "outputs": [
    {
     "data": {
      "text/plain": [
       "[2, 5, 13]"
      ]
     },
     "execution_count": 24,
     "metadata": {},
     "output_type": "execute_result"
    }
   ],
   "source": [
    "num_list[3:9:2]"
   ]
  },
  {
   "cell_type": "code",
   "execution_count": 25,
   "id": "29875691-b01a-4da0-9588-08a5f4e4a5cc",
   "metadata": {},
   "outputs": [
    {
     "data": {
      "text/plain": [
       "[2, 5, 13]"
      ]
     },
     "execution_count": 25,
     "metadata": {},
     "output_type": "execute_result"
    }
   ],
   "source": [
    "num_list[3:8:2]"
   ]
  },
  {
   "cell_type": "code",
   "execution_count": 26,
   "id": "f81c4760-fb6f-49e8-a64a-1a516abb997b",
   "metadata": {},
   "outputs": [
    {
     "data": {
      "text/plain": [
       "[0, 1, 3, 8, 21]"
      ]
     },
     "execution_count": 26,
     "metadata": {},
     "output_type": "execute_result"
    }
   ],
   "source": [
    "num_list[::2]"
   ]
  },
  {
   "cell_type": "markdown",
   "id": "7a3646ca-bb4d-45da-8bad-67d0c0845a62",
   "metadata": {},
   "source": [
    "# List methods"
   ]
  },
  {
   "cell_type": "code",
   "execution_count": 27,
   "id": "14ff9c01-8fbd-4c11-b6c5-2aa4232a60b0",
   "metadata": {},
   "outputs": [
    {
     "name": "stdout",
     "output_type": "stream",
     "text": [
      "['apple', 'banana', 'orange', 'pear', 'cherry', 'blackberry']\n"
     ]
    }
   ],
   "source": [
    "# Finding the methods of an object dir(object_name)\n",
    "print(my_list)"
   ]
  },
  {
   "cell_type": "code",
   "execution_count": 28,
   "id": "58d76b1f-6b00-463f-a9db-3d4426704329",
   "metadata": {},
   "outputs": [],
   "source": [
    "# Append an item or value to the list:\n",
    "my_list.append('strawberry')"
   ]
  },
  {
   "cell_type": "code",
   "execution_count": 29,
   "id": "70d84170-36b0-40c3-8bea-8ea21e747bbf",
   "metadata": {},
   "outputs": [
    {
     "name": "stdout",
     "output_type": "stream",
     "text": [
      "['apple', 'banana', 'orange', 'pear', 'cherry', 'blackberry', 'strawberry']\n"
     ]
    }
   ],
   "source": [
    "print(my_list)"
   ]
  },
  {
   "cell_type": "code",
   "execution_count": 30,
   "id": "22891684-e7b3-4ca8-9f90-292a0ff4deb0",
   "metadata": {},
   "outputs": [
    {
     "name": "stdout",
     "output_type": "stream",
     "text": [
      "Help on method_descriptor:\n",
      "\n",
      "pop(self, index=-1, /)\n",
      "    Remove and return item at index (default last).\n",
      "    \n",
      "    Raises IndexError if list is empty or index is out of range.\n",
      "\n"
     ]
    }
   ],
   "source": [
    "help(list.pop)"
   ]
  },
  {
   "cell_type": "code",
   "execution_count": 31,
   "id": "7308be53-d28f-4e5d-a37c-f1cc89145b0d",
   "metadata": {},
   "outputs": [
    {
     "data": {
      "text/plain": [
       "'strawberry'"
      ]
     },
     "execution_count": 31,
     "metadata": {},
     "output_type": "execute_result"
    }
   ],
   "source": [
    "my_list.pop()"
   ]
  },
  {
   "cell_type": "code",
   "execution_count": 32,
   "id": "dcbc409c-c753-42a5-a91e-68e5d3041927",
   "metadata": {},
   "outputs": [
    {
     "name": "stdout",
     "output_type": "stream",
     "text": [
      "['apple', 'banana', 'orange', 'pear', 'cherry', 'blackberry']\n"
     ]
    }
   ],
   "source": [
    "print(my_list)"
   ]
  },
  {
   "cell_type": "code",
   "execution_count": 33,
   "id": "1532436c-fd8c-47f2-a0aa-6c568e094374",
   "metadata": {},
   "outputs": [
    {
     "data": {
      "text/plain": [
       "6"
      ]
     },
     "execution_count": 33,
     "metadata": {},
     "output_type": "execute_result"
    }
   ],
   "source": [
    "len(my_list)"
   ]
  },
  {
   "cell_type": "code",
   "execution_count": 34,
   "id": "53b15c82-7986-4f6c-9a2e-914d43e25af5",
   "metadata": {},
   "outputs": [
    {
     "data": {
      "text/plain": [
       "'banana'"
      ]
     },
     "execution_count": 34,
     "metadata": {},
     "output_type": "execute_result"
    }
   ],
   "source": [
    "my_list.pop(1)"
   ]
  },
  {
   "cell_type": "code",
   "execution_count": 35,
   "id": "12db9881-972f-4abe-a62e-94112fe0155f",
   "metadata": {},
   "outputs": [
    {
     "name": "stdout",
     "output_type": "stream",
     "text": [
      "['apple', 'orange', 'pear', 'cherry', 'blackberry']\n"
     ]
    }
   ],
   "source": [
    "print(my_list)"
   ]
  }
 ],
 "metadata": {
  "kernelspec": {
   "display_name": "Python 3 (ipykernel)",
   "language": "python",
   "name": "python3"
  },
  "language_info": {
   "codemirror_mode": {
    "name": "ipython",
    "version": 3
   },
   "file_extension": ".py",
   "mimetype": "text/x-python",
   "name": "python",
   "nbconvert_exporter": "python",
   "pygments_lexer": "ipython3",
   "version": "3.9.19"
  },
  "varInspector": {
   "cols": {
    "lenName": 16,
    "lenType": 16,
    "lenVar": 40
   },
   "kernels_config": {
    "python": {
     "delete_cmd_postfix": "",
     "delete_cmd_prefix": "del ",
     "library": "var_list.py",
     "varRefreshCmd": "print(var_dic_list())"
    },
    "r": {
     "delete_cmd_postfix": ") ",
     "delete_cmd_prefix": "rm(",
     "library": "var_list.r",
     "varRefreshCmd": "cat(var_dic_list()) "
    }
   },
   "types_to_exclude": [
    "module",
    "function",
    "builtin_function_or_method",
    "instance",
    "_Feature"
   ],
   "window_display": false
  }
 },
 "nbformat": 4,
 "nbformat_minor": 5
}
