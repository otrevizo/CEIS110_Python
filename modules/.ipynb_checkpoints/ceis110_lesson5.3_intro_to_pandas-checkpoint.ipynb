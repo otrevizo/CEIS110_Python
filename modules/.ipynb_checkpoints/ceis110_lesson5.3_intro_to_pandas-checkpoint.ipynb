{
 "cells": [
  {
   "cell_type": "markdown",
   "id": "b51a967c-6140-4974-86d6-f4d46cc94d9e",
   "metadata": {},
   "source": [
    "# CEIS110 Module 4.2 - Intro to Pandas\n",
    "\n",
    "Author: Prof. Oscar Trevizo\n",
    "\n",
    "Date: July 26, 2023\n",
    "\n",
    "## Reference\n",
    "- https://pandas.pydata.org/docs/\n",
    "- https://pandas.pydata.org/pandas-docs/stable/reference/general_functions.html\n",
    "- https://pandas.pydata.org/docs/reference/io.html\n",
    "- https://pandas.pydata.org/docs/reference/api/pandas.read_csv.html"
   ]
  },
  {
   "cell_type": "code",
   "execution_count": null,
   "id": "344db3be-62b0-4e62-b5eb-5092721f3bd2",
   "metadata": {},
   "outputs": [],
   "source": [
    "import pandas as pd"
   ]
  },
  {
   "cell_type": "code",
   "execution_count": null,
   "id": "49cd5caa-1d31-4490-b597-7f79bb7ebdbe",
   "metadata": {},
   "outputs": [],
   "source": [
    "# Let's build a DataFrame.\n",
    "# To do that, we need data. the data that will be contained in the DataFrame columns\n",
    "\n",
    "first_name = [\"Joan\", \"Mary\", \"Vijay \", \"Rob\", \"Martha\", \"Josh\", \"Vicky\", \"Mario\", \"Jenny\", \"Joe\"]\n",
    "last_name = [\"T\",\"K \", \"N \", \"R \", \"L\", \"F \", \"R\", \"L\", \"T\", \"P\"]\n",
    "score_1 = [91, 83, 95, 72, 91, 85, 89, 82, 80, 79]\n",
    "score_2 = [91, 85, 90, 81, 95, 92, 88, 94, 78, 75]\n",
    "\n"
   ]
  },
  {
   "cell_type": "code",
   "execution_count": null,
   "id": "f84cbf00-531f-4a40-9a49-6642d54d319c",
   "metadata": {},
   "outputs": [],
   "source": [
    "# Now I can build a DataFrame.\n",
    "df= pd.DataFrame({'First Name':first_name, 'Last Name':last_name,'Score 1':score_1,'Score 2':score_2})"
   ]
  },
  {
   "cell_type": "code",
   "execution_count": null,
   "id": "f52d03d4-e6d0-4e86-8a26-51c20992ca2f",
   "metadata": {},
   "outputs": [],
   "source": [
    "df.head()"
   ]
  },
  {
   "cell_type": "code",
   "execution_count": null,
   "id": "e8f0458b-d60a-4b45-9134-062feaeaa64c",
   "metadata": {},
   "outputs": [],
   "source": [
    "df"
   ]
  },
  {
   "cell_type": "code",
   "execution_count": null,
   "id": "09b0b125-048d-44f0-9b92-1c787eece6bf",
   "metadata": {},
   "outputs": [],
   "source": [
    "df.info()"
   ]
  },
  {
   "cell_type": "code",
   "execution_count": null,
   "id": "f58d6185-d9e1-4e00-bce8-b7bc37635cec",
   "metadata": {},
   "outputs": [],
   "source": [
    "df.shape"
   ]
  },
  {
   "cell_type": "code",
   "execution_count": null,
   "id": "3b552b3c-9ddb-4061-99e1-4a799a0092ba",
   "metadata": {},
   "outputs": [],
   "source": [
    "df.describe()"
   ]
  },
  {
   "cell_type": "markdown",
   "id": "b1f25a86-6718-412a-9554-1066e6b667e8",
   "metadata": {},
   "source": [
    "# Reading CSV files\n",
    "\n",
    "Source: \n",
    "- \"Kaggle\" (accessed Mar. 20, 2022) https://www.kaggle.com/ \n",
    "- https://www.kaggle.com/datasets/rishidamarla/fifa-players-ratings"
   ]
  },
  {
   "cell_type": "code",
   "execution_count": null,
   "id": "a6104b41-641b-4556-bc7d-17d55cc13b5e",
   "metadata": {},
   "outputs": [],
   "source": [
    "# Read the csv file\n",
    "fifa_data = pd.read_csv('fifa_cleaned.csv')"
   ]
  },
  {
   "cell_type": "code",
   "execution_count": null,
   "id": "b17dab14-1b1d-408b-8504-7d6fb7333c4c",
   "metadata": {},
   "outputs": [],
   "source": [
    "fifa_data.info()"
   ]
  },
  {
   "cell_type": "code",
   "execution_count": null,
   "id": "0e751bc4-2cc8-4c9e-ba9e-e8c005a281d7",
   "metadata": {},
   "outputs": [],
   "source": [
    "fifa_data = pd.read_csv('fifa_cleaned.csv', usecols = ['id', 'name', 'birth_date', 'age',\n",
    "                                                'height_cm', 'weight_kgs', 'positions',\n",
    "                                                'club_team', 'national_team', 'overall_rating',\n",
    "                                                'wage_euro'])"
   ]
  },
  {
   "cell_type": "code",
   "execution_count": null,
   "id": "6af2ec69-17be-4ca9-abb2-a5cbb738320e",
   "metadata": {},
   "outputs": [],
   "source": [
    "fifa_data.info()"
   ]
  },
  {
   "cell_type": "code",
   "execution_count": null,
   "id": "f45aad30-e672-4d3d-bfb1-acf530e1a17c",
   "metadata": {},
   "outputs": [],
   "source": [
    "fifa_data.head()"
   ]
  },
  {
   "cell_type": "code",
   "execution_count": null,
   "id": "408b02ca-8398-47f2-97a7-96caf9488dfd",
   "metadata": {},
   "outputs": [],
   "source": [
    "fifa_data.shape"
   ]
  },
  {
   "cell_type": "code",
   "execution_count": null,
   "id": "701ea380-be0f-48d3-bc55-24510d1b7968",
   "metadata": {},
   "outputs": [],
   "source": [
    "fifa_data.describe()"
   ]
  },
  {
   "cell_type": "code",
   "execution_count": null,
   "id": "ac09280d-5203-4020-944c-5b75cbf82e50",
   "metadata": {},
   "outputs": [],
   "source": []
  }
 ],
 "metadata": {
  "kernelspec": {
   "display_name": "Python 3 (ipykernel)",
   "language": "python",
   "name": "python3"
  },
  "language_info": {
   "codemirror_mode": {
    "name": "ipython",
    "version": 3
   },
   "file_extension": ".py",
   "mimetype": "text/x-python",
   "name": "python",
   "nbconvert_exporter": "python",
   "pygments_lexer": "ipython3",
   "version": "3.9.13"
  }
 },
 "nbformat": 4,
 "nbformat_minor": 5
}
