{
 "cells": [
  {
   "cell_type": "markdown",
   "id": "21cec907-58a3-4278-a537-c8c3715e6287",
   "metadata": {},
   "source": [
    "## CEIS110 Module 6.2 API NOAA Time Series Pandas Plot\n",
    "\n",
    "April 4, 2024\n",
    "\n",
    "Use Pandas to plot a time series DataFrame. Pandas uses matplotlib by default.\n",
    "\n",
    "The data comes from National Oceanic and Atmospheric Adminstration (NOAA)\n",
    "\n",
    "@author: Oscar Trevizo\n",
    "\n",
    "## References\n",
    "- https://pypi.org/project/noaa-sdk/\n",
    "- https://www.weather.gov/documentation/services-web-api\n",
    "- https://github.com/paulokuong/noaa\n",
    "- https://www.weather.gov/media/documentation/docs/NWS_Geolocation.pdf\n",
    "- https://github.com/paulokuong/noaa\n",
    "- https://pandas.pydata.org/docs/reference/api/pandas.DataFrame.plot.html\n"
   ]
  },
  {
   "cell_type": "code",
   "execution_count": 1,
   "id": "656f79b5-af0c-4688-a97c-28e97e514374",
   "metadata": {},
   "outputs": [],
   "source": [
    "# Import libraries\n",
    "import pandas as pd\n",
    "import datetime\n",
    "from noaa_sdk import noaa"
   ]
  },
  {
   "cell_type": "markdown",
   "id": "145c6079-558a-4631-b745-d9b873e45868",
   "metadata": {},
   "source": [
    "## Get your data"
   ]
  },
  {
   "cell_type": "code",
   "execution_count": 2,
   "id": "a323cc8a-aa08-4df6-b7f9-22a8f7f49bcb",
   "metadata": {},
   "outputs": [],
   "source": [
    "# Init parameters\n",
    "zip_code = '60610'\n",
    "country = 'US'\n",
    "today = datetime.datetime.now()\n",
    "past = today - datetime.timedelta(days=14)\n",
    "start_date = past.strftime(\"%Y-%m-%dT00:00:00Z\")\n",
    "end_date = today.strftime(\"%Y-%m-%dT23:59:59Z\")"
   ]
  },
  {
   "cell_type": "code",
   "execution_count": 3,
   "id": "60c4a181-1392-4851-a94f-ef114c9fc6b9",
   "metadata": {},
   "outputs": [],
   "source": [
    "# Instantiate weather object to connect to the REST API\n",
    "weather = noaa.NOAA()"
   ]
  },
  {
   "cell_type": "code",
   "execution_count": 4,
   "id": "dfa54734",
   "metadata": {},
   "outputs": [
    {
     "name": "stdout",
     "output_type": "stream",
     "text": [
      "Help on NOAA in module noaa_sdk.noaa object:\n",
      "\n",
      "class NOAA(noaa_sdk.util.UTIL)\n",
      " |  NOAA(user_agent=None, accept=None, show_uri=False)\n",
      " |  \n",
      " |  Main class for getting data from NOAA.\n",
      " |  \n",
      " |  Method resolution order:\n",
      " |      NOAA\n",
      " |      noaa_sdk.util.UTIL\n",
      " |      builtins.object\n",
      " |  \n",
      " |  Methods defined here:\n",
      " |  \n",
      " |  __init__(self, user_agent=None, accept=None, show_uri=False)\n",
      " |      Constructor.\n",
      " |      \n",
      " |      Args:\n",
      " |          user_agent (str[optional]): user agent specified in the header.\n",
      " |          accept (str[optional]): accept string specified in the header.\n",
      " |          show_uri (boolean[optional]): True for showing the\n",
      " |              actual url with query string being sent for requesting data.\n",
      " |  \n",
      " |  active_alerts(self, count=False, **params)\n",
      " |      Active alerts endpoints.\n",
      " |      \n",
      " |      Response in this method should not be modified.\n",
      " |      In this way, we can keep track of changes made by NOAA through\n",
      " |      functional tests @todo(paulokuong) later on.\n",
      " |      \n",
      " |      Args:\n",
      " |          count (bool): True to hit /alerts/active/count.\n",
      " |          zone_id (str): a valid zone, see list in counts endpoint.\n",
      " |          area (str): a valid area, see list in counts endpoint.\n",
      " |          region (str): a valid region, see list in counts endpoint\n",
      " |      Returns:\n",
      " |          json: json response from api.\n",
      " |  \n",
      " |  alerts(self, **params)\n",
      " |      A list of alerts that can be filtered by parameters.\n",
      " |      If no parameters are provided, then all alerts are returned.\n",
      " |      The ATOM format returns items in CAP-ATOM.\n",
      " |      \n",
      " |      Response in this method should not be modified.\n",
      " |      In this way, we can keep track of changes made by NOAA through\n",
      " |      functional tests @todo(paulokuong) later on.\n",
      " |      \n",
      " |      Args:\n",
      " |          alert_id (str): alert id.\n",
      " |          active (int): Active alerts (1 or 0).\n",
      " |          start (str): Start time (ISO8601DateTime).\n",
      " |          end (str): End time (ISO8601DateTime).\n",
      " |          status (str): Event status (alert, update, cancel).\n",
      " |          type (str): Event type (list forthcoming).\n",
      " |          zone_type (str): Zone type (land or marine).\n",
      " |          point (str): Point (latitude,longitude).\n",
      " |          region (str): Region code (list forthcoming).\n",
      " |          state (str): State/marine code (list forthcoming).\n",
      " |          zone (str): Zone Id (forecast or county, list forthcoming).\n",
      " |          urgency (str): Urgency (expected, immediate).\n",
      " |          severity (str): Severity (minor, moderate, severe).\n",
      " |          certainty (str): Certainty (likely, observed).\n",
      " |          limit (int) Limit (an integer).\n",
      " |      Returns:\n",
      " |          json: json response from api.\n",
      " |  \n",
      " |  get_forecasts(self, postal_code, country, hourly=False, type='forecastHourly')\n",
      " |      Get forecasts by postal code and country code.\n",
      " |      \n",
      " |         This is an extensive functionality, aligning data\n",
      " |         from Open Street Map to enable postal code and country code\n",
      " |         params for weather forecast data.\n",
      " |      \n",
      " |         To be deprecated param marked with (*).\n",
      " |      \n",
      " |      Args:\n",
      " |          postalcode (str): postal code.\n",
      " |          country (str): 2 letter country code.\n",
      " |          * hourly (boolean[optional]): True for getting hourly forecast.\n",
      " |          type (string[optional]): forecast, forecastHourly or\n",
      " |              forecastGridData. If specified, it will overwrite the\n",
      " |              deprecated param hourly.\n",
      " |      Returns:\n",
      " |          list: list of weather forecasts.\n",
      " |  \n",
      " |  get_observations(self, postalcode, country, start=None, end=None, num_of_stations=1)\n",
      " |      Get all nearest station observations by postalcode and\n",
      " |      country code.\n",
      " |      \n",
      " |         This is an extensive functionality, aligning data\n",
      " |         from Open Street Map to enable postal code and country code\n",
      " |         params for weather observation data.\n",
      " |      \n",
      " |      Args:\n",
      " |          postalcode (str): postal code.\n",
      " |          country (str): 2 letter country code.\n",
      " |          start (str[optional]): start date of observation\n",
      " |              (eg. '%Y-%m-%dT%H:%M:%SZ' | '%Y-%m-%d' | '%Y-%m-%d %H:%M:%S').\n",
      " |          end (str[optional]): end date of observation\n",
      " |              (eg. '%Y-%m-%dT%H:%M:%SZ' | '%Y-%m-%d' | '%Y-%m-%d %H:%M:%S').\n",
      " |          num_of_stations (int[optional]): get observations from the\n",
      " |              nearest x stations. (Put -1 of wants to get all stations.)\n",
      " |      Returns:\n",
      " |          generator: generator of dictionaries of observations with the\n",
      " |          following variables: 'relativeHumidity', 'presentWeather',\n",
      " |          'minTemperatureLast24Hours', 'windGust', 'precipitationLast6Hours',\n",
      " |          'cloudLayers', 'dewpoint', 'temperature', 'windDirection',\n",
      " |          'rawMessage', '@type', 'precipitationLast3Hours',\n",
      " |          'visibility', 'icon', 'barometricPressure', 'windChill',\n",
      " |          'station', 'textDescription', 'seaLevelPressure', '@id',\n",
      " |          'timestamp', 'maxTemperatureLast24Hours', 'precipitationLastHour',\n",
      " |          'heatIndex', 'windSpeed', 'elevation'\n",
      " |  \n",
      " |  get_observations_by_lat_lon(self, lat, lon, start=None, end=None, num_of_stations=1)\n",
      " |      Same as get_observations() but uses Lat and Lon instead of Postalcode and Country\n",
      " |  \n",
      " |  get_observations_by_postalcode_country(self, postalcode, country, start=None, end=None, num_of_stations=1)\n",
      " |      Deprecated. Please use method get_observations.\n",
      " |  \n",
      " |  offices(self, office_id)\n",
      " |      Metadata about a Weather Office.\n",
      " |      \n",
      " |      Response in this method should not be modified.\n",
      " |      In this way, we can keep track of changes made by NOAA through\n",
      " |      functional tests @todo(paulokuong) later on.\n",
      " |      \n",
      " |      Args:\n",
      " |          office_id (str): office id.\n",
      " |      Returns:\n",
      " |          json: json response from api.\n",
      " |  \n",
      " |  points(self, point, stations=False)\n",
      " |      Metadata about a point.\n",
      " |      This is the primary endpoint for forecast information for a location.\n",
      " |      It contains linked data for the forecast, the hourly forecast,\n",
      " |      observation and other information. It also shows stations nearest to a point\n",
      " |      in order of distance.\n",
      " |      \n",
      " |      Response in this method should not be modified.\n",
      " |      In this way, we can keep track of changes made by NOAA through\n",
      " |      functional tests @todo(paulokuong) later on.\n",
      " |      \n",
      " |      Args:\n",
      " |          point (str): lat,long.\n",
      " |          stations (boolean): True for finding stations.\n",
      " |      Returns:\n",
      " |          json: json response from api.\n",
      " |  \n",
      " |  points_forecast(self, lat, long, hourly=False, type='')\n",
      " |      Get observation data from a weather station.\n",
      " |      \n",
      " |      Response in this method should not be modified.\n",
      " |      In this way, we can keep track of changes made by NOAA through\n",
      " |      functional tests @todo(paulokuong) later on.\n",
      " |      \n",
      " |      To be deprecated param marked with (*).\n",
      " |      \n",
      " |      Args:\n",
      " |          lat (float): latitude of the weather station coordinate.\n",
      " |          long (float): longitude of the weather station coordinate.\n",
      " |          * hourly (boolean[optional]): True for getting hourly forecast.\n",
      " |          type (string[optional]): forecast, forecastHourly or\n",
      " |              forecastGridData. If specified, it will overwrite the\n",
      " |              deprecated param hourly.\n",
      " |      Returns:\n",
      " |          json: json response from api.\n",
      " |  \n",
      " |  products(self, id)\n",
      " |      Get data of a product.\n",
      " |      \n",
      " |      Response in this method should not be modified.\n",
      " |      In this way, we can keep track of changes made by NOAA through\n",
      " |      functional tests @todo(paulokuong) later on.\n",
      " |      \n",
      " |      Args:\n",
      " |          id (str): product id.\n",
      " |      Returns:\n",
      " |          json: json response from api.\n",
      " |  \n",
      " |  products_locations(self, **params)\n",
      " |      A list of locations with active products.\n",
      " |      \n",
      " |      Response in this method should not be modified.\n",
      " |      In this way, we can keep track of changes made by NOAA through\n",
      " |      functional tests @todo(paulokuong) later on.\n",
      " |      \n",
      " |      Args:\n",
      " |          location_id (str): location id.\n",
      " |      Returns:\n",
      " |          json: json response from api.\n",
      " |  \n",
      " |  products_types(self, **params)\n",
      " |      Get a list of product types with an active product.\n",
      " |      \n",
      " |      Response in this method should not be modified.\n",
      " |      In this way, we can keep track of changes made by NOAA through\n",
      " |      functional tests @todo(paulokuong) later on.\n",
      " |      \n",
      " |      Args:\n",
      " |          type_id (str): an id of a valid product type\n",
      " |          locations (boolean[optional]): True to get a list of\n",
      " |              locations that have issues products for a type.\n",
      " |          location_id (str): location id.\n",
      " |      Returns:\n",
      " |          json: json response from api.\n",
      " |  \n",
      " |  stations(self, **params)\n",
      " |      Get list of US weather stations and their metadata.\n",
      " |      \n",
      " |      Response in this method should not be modified.\n",
      " |      In this way, we can keep track of changes made by NOAA through\n",
      " |      functional tests @todo(paulokuong) later on.\n",
      " |      \n",
      " |      Args:\n",
      " |          station_id (str[optional]): station id.\n",
      " |          state (str[optional]): 2 letters state code.\n",
      " |          limit (int[optional]): limit of results.\n",
      " |      Returns:\n",
      " |          json: json response from api.\n",
      " |  \n",
      " |  stations_observations(self, station_id, **params)\n",
      " |      Get observation data from specific station.\n",
      " |      \n",
      " |      Response in this method should not be modified.\n",
      " |      In this way, we can keep track of changes made by NOAA through\n",
      " |      functional tests @todo(paulokuong) later on.\n",
      " |      (*Note: There is a delay on NOAA's side for \"unpopular\" stations which\n",
      " |      causes start and end params not enable to query anything sometimes.)\n",
      " |      \n",
      " |      Args:\n",
      " |          station_id (str): station id.\n",
      " |          start (str[optional]): start date of observation\n",
      " |              (eg. '%Y-%m-%dT%H:%M:%SZ' | '%Y-%m-%d' | '%Y-%m-%d %H:%M:%S').\n",
      " |          end (str[optional]): end date of observation\n",
      " |              (eg. '%Y-%m-%dT%H:%M:%SZ' | '%Y-%m-%d' | '%Y-%m-%d %H:%M:%S').\n",
      " |          limit (int[optional]): limit of results.\n",
      " |          current (bool[optional]): True if needs current observations.\n",
      " |          recordId (str[optional]): recordId, Record Id (ISO8601DateTime)\n",
      " |      Returns:\n",
      " |          json: json response from api.\n",
      " |  \n",
      " |  zones(self, type, zone_id, forecast=False)\n",
      " |      Metadata for a zone and forecast data for zone.\n",
      " |      \n",
      " |      Response in this method should not be modified.\n",
      " |      In this way, we can keep track of changes made by NOAA through\n",
      " |      functional tests @todo(paulokuong) later on.\n",
      " |      \n",
      " |      Args:\n",
      " |          type (str): a valid zone type (list forthcoming).\n",
      " |          zone_id (str): a zone id (list forthcoming).\n",
      " |          forecast (bool): True to show forecast data of the zone.\n",
      " |      Returns:\n",
      " |          json: json response from api.\n",
      " |  \n",
      " |  ----------------------------------------------------------------------\n",
      " |  Data and other attributes defined here:\n",
      " |  \n",
      " |  DEFAULT_END_POINT = 'api.weather.gov'\n",
      " |  \n",
      " |  DEFAULT_USER_AGENT = 'Test (your@email.com)'\n",
      " |  \n",
      " |  ----------------------------------------------------------------------\n",
      " |  Methods inherited from noaa_sdk.util.UTIL:\n",
      " |  \n",
      " |  get_request_header(self)\n",
      " |      Get required headers.\n",
      " |      \n",
      " |      Args:\n",
      " |          format (str): content type.\n",
      " |      \n",
      " |      Returns:\n",
      " |          dec: headers with access token.\n",
      " |  \n",
      " |  make_get_request(self, uri, header=None, end_point=None)\n",
      " |      Encapsulate code for GET request.\n",
      " |      \n",
      " |      Args:\n",
      " |          uri (str): full get url with query string.\n",
      " |          header (dict): request header.\n",
      " |          end_point (str): end point host.\n",
      " |      \n",
      " |      Returns:\n",
      " |          dict: dictionary response.\n",
      " |  \n",
      " |  parse_param_timestamp(self, str_date_time)\n",
      " |      Parse string to datetime object.\n",
      " |      \n",
      " |      Args:\n",
      " |          str_date_time (str): date time 3 different formats:\n",
      " |              '%Y-%m-%dT%H:%M:%SZ' | '%Y-%m-%d' | '%Y-%m-%d %H:%M:%S'\n",
      " |      Returns:\n",
      " |          datetime object.\n",
      " |  \n",
      " |  parse_response_timestamp(self, str_date_time)\n",
      " |      Parse string to datetime object.\n",
      " |      \n",
      " |      Args:\n",
      " |          str_date_time (str): date time in format (YYYY-MM-DD)\n",
      " |      Returns:\n",
      " |          datetime object.\n",
      " |  \n",
      " |  ----------------------------------------------------------------------\n",
      " |  Data descriptors inherited from noaa_sdk.util.UTIL:\n",
      " |  \n",
      " |  __dict__\n",
      " |      dictionary for instance variables (if defined)\n",
      " |  \n",
      " |  __weakref__\n",
      " |      list of weak references to the object (if defined)\n",
      " |  \n",
      " |  accept\n",
      " |  \n",
      " |  show_uri\n",
      " |  \n",
      " |  user_agent\n",
      "\n"
     ]
    }
   ],
   "source": [
    "help(weather)"
   ]
  },
  {
   "cell_type": "code",
   "execution_count": 5,
   "id": "6605a04e-0367-45bd-958b-98ccedd42517",
   "metadata": {},
   "outputs": [],
   "source": [
    "# Pull data from the weather\n",
    "observations = weather.get_observations(zip_code, country, start_date, end_date)"
   ]
  },
  {
   "cell_type": "code",
   "execution_count": 6,
   "id": "97bc5994",
   "metadata": {},
   "outputs": [
    {
     "name": "stdout",
     "output_type": "stream",
     "text": [
      "Help on method get_observations in module noaa_sdk.noaa:\n",
      "\n",
      "get_observations(postalcode, country, start=None, end=None, num_of_stations=1) method of noaa_sdk.noaa.NOAA instance\n",
      "    Get all nearest station observations by postalcode and\n",
      "    country code.\n",
      "    \n",
      "       This is an extensive functionality, aligning data\n",
      "       from Open Street Map to enable postal code and country code\n",
      "       params for weather observation data.\n",
      "    \n",
      "    Args:\n",
      "        postalcode (str): postal code.\n",
      "        country (str): 2 letter country code.\n",
      "        start (str[optional]): start date of observation\n",
      "            (eg. '%Y-%m-%dT%H:%M:%SZ' | '%Y-%m-%d' | '%Y-%m-%d %H:%M:%S').\n",
      "        end (str[optional]): end date of observation\n",
      "            (eg. '%Y-%m-%dT%H:%M:%SZ' | '%Y-%m-%d' | '%Y-%m-%d %H:%M:%S').\n",
      "        num_of_stations (int[optional]): get observations from the\n",
      "            nearest x stations. (Put -1 of wants to get all stations.)\n",
      "    Returns:\n",
      "        generator: generator of dictionaries of observations with the\n",
      "        following variables: 'relativeHumidity', 'presentWeather',\n",
      "        'minTemperatureLast24Hours', 'windGust', 'precipitationLast6Hours',\n",
      "        'cloudLayers', 'dewpoint', 'temperature', 'windDirection',\n",
      "        'rawMessage', '@type', 'precipitationLast3Hours',\n",
      "        'visibility', 'icon', 'barometricPressure', 'windChill',\n",
      "        'station', 'textDescription', 'seaLevelPressure', '@id',\n",
      "        'timestamp', 'maxTemperatureLast24Hours', 'precipitationLastHour',\n",
      "        'heatIndex', 'windSpeed', 'elevation'\n",
      "\n"
     ]
    }
   ],
   "source": [
    "help(weather.get_observations)"
   ]
  },
  {
   "cell_type": "code",
   "execution_count": 7,
   "id": "86145c4c-6bd2-4b13-a05f-d68f606153c6",
   "metadata": {},
   "outputs": [],
   "source": [
    "# Instantiate some lists\n",
    "time = []\n",
    "zc = []   # Optionally =, one could loop through several zip codes\n",
    "wind_speed = []\n",
    "temperature = []\n",
    "humidity = []\n",
    "wind_direction = []\n",
    "pressure = []\n",
    "visibility = []\n",
    "description = []\n"
   ]
  },
  {
   "cell_type": "code",
   "execution_count": 8,
   "id": "65070d81",
   "metadata": {},
   "outputs": [
    {
     "data": {
      "text/plain": [
       "list"
      ]
     },
     "execution_count": 8,
     "metadata": {},
     "output_type": "execute_result"
    }
   ],
   "source": [
    "type(wind_speed)"
   ]
  },
  {
   "cell_type": "code",
   "execution_count": 9,
   "id": "da49751e",
   "metadata": {},
   "outputs": [
    {
     "data": {
      "text/plain": [
       "generator"
      ]
     },
     "execution_count": 9,
     "metadata": {},
     "output_type": "execute_result"
    }
   ],
   "source": [
    "type(observations)"
   ]
  },
  {
   "cell_type": "code",
   "execution_count": 10,
   "id": "d6021be0-0ede-4aaa-9f8f-868656168730",
   "metadata": {},
   "outputs": [],
   "source": [
    "for obs in observations:\n",
    "    time.append(obs[\"timestamp\"])\n",
    "    zc.append(zip_code)\n",
    "    wind_speed.append(obs[\"windSpeed\"][\"value\"])\n",
    "    temperature.append(obs[\"temperature\"][\"value\"])\n",
    "    humidity.append(obs[\"relativeHumidity\"][\"value\"])\n",
    "    wind_direction.append(obs[\"windDirection\"][\"value\"])\n",
    "    pressure.append(obs[\"barometricPressure\"][\"value\"])\n",
    "    visibility.append(obs[\"visibility\"][\"value\"])\n",
    "    description.append(obs[\"textDescription\"])\n"
   ]
  },
  {
   "cell_type": "code",
   "execution_count": 12,
   "id": "93c71a73",
   "metadata": {},
   "outputs": [
    {
     "name": "stdout",
     "output_type": "stream",
     "text": [
      "[5.6, 5.6, 5, 4.4, 4.4, 3.3, 3.3, 3.9, 3.9, None, 4.4, 5, 5, 4.4, 4.4, 4.4, 5, 5, 5.6, 5, 5, 5.6, 5.6, 5.6, 6.1, 6.1, 6.1, 6.1, 5.6, 5, 3.9, 3.3, 3.3, 3.3, 3.3, 3.3, 3.3, 3.3, 3.3, 3.3, 3.3, 3.9, 3.9, 3.3, 3.3, 3.3, 2.8, 3.9, 3.3, 3.3, 3.3, 3.9, 3.9, 3.9, 3.9, 3.9, 3.9, 3.3, 3.9, 3.3, 3.3, 3.3, 2.8, 2.2, 2.2, 2.2, 1.7, 1.7, 2, 1.7, 1.7, 1.7, 2.2, 2.2, 2.8, 2.8, 2.8, 2.8, 2.8, 3.3, 3.3, 3.3, 2.8, 3.3, 3.3, 3.9, 4.4, 6.1, 7.2, 9.4, 10, 10.6, 10.6, 12.2, 13.9, 13.3, 12.8, 11.7, 10, 7.8, 7.2, 7.2, 7.2, 6.7, 6.7, 6.1, 6.1, 6.1, 6.1, 6.1, 6.1, 6.1, 6.7, 6.7, 6.7, 6.7, 6.7, 6.7, 6.7, 6.7, 7.2, 6.7, 7.2, 7.2, 7.2, 7.8, 7.8, 7.8, 7.8, 7.8, 7.8, 8, 7.8, 7.8, 8.3, 7.8, 7.8, 8.3, 8.3, 8.3, 8.3, 8.3, 8.9, 9.4, 8.9, 8.9, 8.3, 8.3, 8.3, 8.3, 7.2, 7.2, 6.7, 6.7, 6.7, 6.7, 7.2, 7.8, 7.8, 7.2, 7.2, 7.2, 6.7, 6.7, 6.7, 6.7, 5.6, 5.6, 5.6, 5.6, 6.7, 8.3, 8.9, 9.4, 10, 9.4, 10.6, 9.4, 7.8, 5, 5, 5, 4.4, 4.4, 4.4, 4.4, 4.4, 4.4, 5, 5, 5.6, 6.1, 6.1, 6.1, 6.1, 6.7, 7.8, 8.3, 9.4, 12.2, 15, 14.4, 15, 15, 15, 15.6, 17.2, 17.8, 18, 17.2, 16.1, 13.3, 12.2, 10, 10.6, 10.6, 10.6, 11.7, 11.7, 10.6, 10.6, 11.1, 10.6, 7.8, 7.8, 6.7, 6.7, 6.7, 7.2, 7.2, 6.7, 7.2, 8.9, 10, 11.1, 10, 9.4, 8.9]\n"
     ]
    }
   ],
   "source": [
    "print(temperature)"
   ]
  },
  {
   "cell_type": "code",
   "execution_count": 13,
   "id": "3e080f3a",
   "metadata": {},
   "outputs": [
    {
     "name": "stdout",
     "output_type": "stream",
     "text": [
      "['2024-04-05T15:53:00+00:00', '2024-04-05T14:53:00+00:00', '2024-04-05T13:53:00+00:00', '2024-04-05T13:04:00+00:00', '2024-04-05T12:53:00+00:00', '2024-04-05T11:53:00+00:00', '2024-04-05T10:53:00+00:00', '2024-04-05T09:53:00+00:00', '2024-04-05T09:44:00+00:00', '2024-04-05T09:16:00+00:00', '2024-04-05T08:53:00+00:00', '2024-04-05T08:06:00+00:00', '2024-04-05T07:53:00+00:00', '2024-04-05T06:53:00+00:00', '2024-04-05T06:44:00+00:00', '2024-04-05T05:53:00+00:00', '2024-04-05T04:53:00+00:00', '2024-04-05T03:53:00+00:00', '2024-04-05T02:53:00+00:00', '2024-04-05T01:53:00+00:00', '2024-04-05T00:53:00+00:00', '2024-04-05T00:32:00+00:00', '2024-04-04T23:53:00+00:00', '2024-04-04T22:53:00+00:00', '2024-04-04T21:53:00+00:00', '2024-04-04T21:46:00+00:00', '2024-04-04T21:04:00+00:00', '2024-04-04T20:53:00+00:00', '2024-04-04T19:53:00+00:00', '2024-04-04T18:53:00+00:00', '2024-04-04T17:53:00+00:00', '2024-04-04T16:53:00+00:00', '2024-04-04T15:53:00+00:00', '2024-04-04T14:53:00+00:00', '2024-04-04T13:53:00+00:00', '2024-04-04T12:53:00+00:00', '2024-04-04T11:53:00+00:00', '2024-04-04T10:53:00+00:00', '2024-04-04T09:53:00+00:00', '2024-04-04T08:53:00+00:00', '2024-04-04T07:53:00+00:00', '2024-04-04T06:53:00+00:00', '2024-04-04T06:36:00+00:00', '2024-04-04T05:53:00+00:00', '2024-04-04T05:10:00+00:00', '2024-04-04T04:53:00+00:00', '2024-04-04T03:53:00+00:00', '2024-04-04T02:53:00+00:00', '2024-04-04T01:53:00+00:00', '2024-04-04T00:53:00+00:00', '2024-04-03T23:53:00+00:00', '2024-04-03T22:53:00+00:00', '2024-04-03T21:53:00+00:00', '2024-04-03T21:31:00+00:00', '2024-04-03T20:53:00+00:00', '2024-04-03T20:03:00+00:00', '2024-04-03T19:53:00+00:00', '2024-04-03T18:53:00+00:00', '2024-04-03T17:53:00+00:00', '2024-04-03T16:53:00+00:00', '2024-04-03T15:53:00+00:00', '2024-04-03T15:19:00+00:00', '2024-04-03T14:53:00+00:00', '2024-04-03T14:44:00+00:00', '2024-04-03T13:53:00+00:00', '2024-04-03T13:34:00+00:00', '2024-04-03T13:16:00+00:00', '2024-04-03T12:53:00+00:00', '2024-04-03T12:49:00+00:00', '2024-04-03T12:26:00+00:00', '2024-04-03T11:58:00+00:00', '2024-04-03T11:53:00+00:00', '2024-04-03T10:53:00+00:00', '2024-04-03T09:53:00+00:00', '2024-04-03T08:53:00+00:00', '2024-04-03T07:53:00+00:00', '2024-04-03T06:53:00+00:00', '2024-04-03T06:15:00+00:00', '2024-04-03T05:53:00+00:00', '2024-04-03T04:53:00+00:00', '2024-04-03T03:53:00+00:00', '2024-04-03T03:33:00+00:00', '2024-04-03T02:53:00+00:00', '2024-04-03T01:53:00+00:00', '2024-04-03T01:41:00+00:00', '2024-04-03T00:53:00+00:00', '2024-04-02T23:53:00+00:00', '2024-04-02T22:53:00+00:00', '2024-04-02T22:26:00+00:00', '2024-04-02T21:53:00+00:00', '2024-04-02T21:44:00+00:00', '2024-04-02T21:19:00+00:00', '2024-04-02T21:02:00+00:00', '2024-04-02T20:53:00+00:00', '2024-04-02T20:41:00+00:00', '2024-04-02T19:53:00+00:00', '2024-04-02T19:41:00+00:00', '2024-04-02T19:24:00+00:00', '2024-04-02T18:53:00+00:00', '2024-04-02T17:53:00+00:00', '2024-04-02T17:20:00+00:00', '2024-04-02T17:08:00+00:00', '2024-04-02T16:53:00+00:00', '2024-04-02T15:53:00+00:00', '2024-04-02T14:53:00+00:00', '2024-04-02T14:26:00+00:00', '2024-04-02T14:06:00+00:00', '2024-04-02T13:53:00+00:00', '2024-04-02T13:31:00+00:00', '2024-04-02T13:03:00+00:00', '2024-04-02T12:53:00+00:00', '2024-04-02T12:29:00+00:00', '2024-04-02T11:53:00+00:00', '2024-04-02T11:33:00+00:00', '2024-04-02T10:53:00+00:00', '2024-04-02T09:53:00+00:00', '2024-04-02T08:53:00+00:00', '2024-04-02T08:05:00+00:00', '2024-04-02T07:53:00+00:00', '2024-04-02T06:53:00+00:00', '2024-04-02T05:53:00+00:00', '2024-04-02T05:22:00+00:00', '2024-04-02T04:53:00+00:00', '2024-04-02T04:44:00+00:00', '2024-04-02T03:53:00+00:00', '2024-04-02T02:53:00+00:00', '2024-04-02T01:53:00+00:00', '2024-04-02T00:53:00+00:00', '2024-04-02T00:46:00+00:00', '2024-04-02T00:11:00+00:00', '2024-04-01T23:53:00+00:00', '2024-04-01T23:49:00+00:00', '2024-04-01T23:00:00+00:00', '2024-04-01T22:53:00+00:00', '2024-04-01T22:07:00+00:00', '2024-04-01T21:53:00+00:00', '2024-04-01T21:42:00+00:00', '2024-04-01T21:29:00+00:00', '2024-04-01T20:53:00+00:00', '2024-04-01T20:42:00+00:00', '2024-04-01T20:31:00+00:00', '2024-04-01T20:17:00+00:00', '2024-04-01T19:53:00+00:00', '2024-04-01T18:53:00+00:00', '2024-04-01T17:53:00+00:00', '2024-04-01T17:30:00+00:00', '2024-04-01T16:53:00+00:00', '2024-04-01T16:11:00+00:00', '2024-04-01T16:02:00+00:00', '2024-04-01T15:53:00+00:00', '2024-04-01T14:53:00+00:00', '2024-04-01T13:53:00+00:00', '2024-04-01T12:53:00+00:00', '2024-04-01T12:43:00+00:00', '2024-04-01T11:53:00+00:00', '2024-04-01T11:26:00+00:00', '2024-04-01T10:53:00+00:00', '2024-04-01T09:53:00+00:00', '2024-04-01T08:53:00+00:00', '2024-04-01T07:53:00+00:00', '2024-04-01T07:26:00+00:00', '2024-04-01T06:53:00+00:00', '2024-04-01T05:53:00+00:00', '2024-04-01T05:35:00+00:00', '2024-04-01T04:53:00+00:00', '2024-04-01T03:53:00+00:00', '2024-04-01T02:53:00+00:00', '2024-04-01T01:53:00+00:00', '2024-04-01T00:53:00+00:00', '2024-03-31T23:53:00+00:00', '2024-03-31T22:53:00+00:00', '2024-03-31T21:53:00+00:00', '2024-03-31T20:53:00+00:00', '2024-03-31T19:53:00+00:00', '2024-03-31T18:53:00+00:00', '2024-03-31T17:53:00+00:00', '2024-03-31T16:53:00+00:00', '2024-03-31T15:53:00+00:00', '2024-03-31T14:53:00+00:00', '2024-03-31T13:53:00+00:00', '2024-03-31T13:31:00+00:00', '2024-03-31T12:53:00+00:00', '2024-03-31T11:53:00+00:00', '2024-03-31T10:53:00+00:00', '2024-03-31T10:35:00+00:00', '2024-03-31T09:53:00+00:00', '2024-03-31T08:53:00+00:00', '2024-03-31T07:53:00+00:00', '2024-03-31T06:53:00+00:00', '2024-03-31T05:53:00+00:00', '2024-03-31T04:53:00+00:00', '2024-03-31T02:53:00+00:00', '2024-03-31T01:53:00+00:00', '2024-03-31T01:35:00+00:00', '2024-03-31T01:17:00+00:00', '2024-03-31T00:53:00+00:00', '2024-03-31T00:17:00+00:00', '2024-03-30T23:53:00+00:00', '2024-03-30T22:53:00+00:00', '2024-03-30T21:53:00+00:00', '2024-03-30T20:53:00+00:00', '2024-03-30T20:41:00+00:00', '2024-03-30T20:11:00+00:00', '2024-03-30T19:53:00+00:00', '2024-03-30T19:14:00+00:00', '2024-03-30T18:53:00+00:00', '2024-03-30T17:55:00+00:00', '2024-03-30T17:48:00+00:00', '2024-03-30T17:47:00+00:00', '2024-03-30T16:53:00+00:00', '2024-03-30T15:53:00+00:00', '2024-03-30T14:53:00+00:00', '2024-03-30T13:53:00+00:00', '2024-03-30T12:53:00+00:00', '2024-03-30T11:53:00+00:00', '2024-03-30T10:53:00+00:00', '2024-03-30T09:53:00+00:00', '2024-03-30T08:53:00+00:00', '2024-03-30T08:23:00+00:00', '2024-03-30T08:00:00+00:00', '2024-03-30T07:53:00+00:00', '2024-03-30T07:26:00+00:00', '2024-03-30T06:53:00+00:00', '2024-03-30T05:53:00+00:00', '2024-03-30T04:53:00+00:00', '2024-03-30T03:53:00+00:00', '2024-03-30T02:53:00+00:00', '2024-03-30T01:53:00+00:00', '2024-03-30T01:36:00+00:00', '2024-03-30T00:53:00+00:00', '2024-03-29T23:53:00+00:00', '2024-03-29T22:53:00+00:00', '2024-03-29T21:53:00+00:00', '2024-03-29T20:53:00+00:00', '2024-03-29T19:53:00+00:00', '2024-03-29T18:53:00+00:00', '2024-03-29T17:53:00+00:00', '2024-03-29T16:53:00+00:00']\n"
     ]
    }
   ],
   "source": [
    "print(time)"
   ]
  },
  {
   "cell_type": "code",
   "execution_count": 14,
   "id": "fa6df4f5-09a5-4a60-be35-eb8d85b85804",
   "metadata": {},
   "outputs": [],
   "source": [
    "# Build the DataFrame using dictionary\n",
    "df = pd.DataFrame({'time':time, 'zip_code':zc, 'temperature':temperature, \n",
    "                       'wind_speed':wind_speed, 'humidity':humidity,\n",
    "                       'wind_direction':wind_direction, 'pressure':pressure, \n",
    "                       'pressure':pressure,\n",
    "                       'visibility':visibility, 'description':description})\n"
   ]
  },
  {
   "cell_type": "code",
   "execution_count": 15,
   "id": "3cfeb1ed-ec14-49d9-bc2e-d8b807ae8400",
   "metadata": {},
   "outputs": [
    {
     "name": "stdout",
     "output_type": "stream",
     "text": [
      "<class 'pandas.core.frame.DataFrame'>\n",
      "RangeIndex: 238 entries, 0 to 237\n",
      "Data columns (total 9 columns):\n",
      " #   Column          Non-Null Count  Dtype  \n",
      "---  ------          --------------  -----  \n",
      " 0   time            238 non-null    object \n",
      " 1   zip_code        238 non-null    object \n",
      " 2   temperature     237 non-null    float64\n",
      " 3   wind_speed      224 non-null    float64\n",
      " 4   humidity        237 non-null    float64\n",
      " 5   wind_direction  224 non-null    float64\n",
      " 6   pressure        237 non-null    float64\n",
      " 7   visibility      238 non-null    int64  \n",
      " 8   description     238 non-null    object \n",
      "dtypes: float64(5), int64(1), object(3)\n",
      "memory usage: 16.9+ KB\n"
     ]
    }
   ],
   "source": [
    "df.info()"
   ]
  },
  {
   "cell_type": "code",
   "execution_count": 16,
   "id": "0cf7c466",
   "metadata": {},
   "outputs": [
    {
     "data": {
      "text/html": [
       "<div>\n",
       "<style scoped>\n",
       "    .dataframe tbody tr th:only-of-type {\n",
       "        vertical-align: middle;\n",
       "    }\n",
       "\n",
       "    .dataframe tbody tr th {\n",
       "        vertical-align: top;\n",
       "    }\n",
       "\n",
       "    .dataframe thead th {\n",
       "        text-align: right;\n",
       "    }\n",
       "</style>\n",
       "<table border=\"1\" class=\"dataframe\">\n",
       "  <thead>\n",
       "    <tr style=\"text-align: right;\">\n",
       "      <th></th>\n",
       "      <th>time</th>\n",
       "      <th>zip_code</th>\n",
       "      <th>temperature</th>\n",
       "      <th>wind_speed</th>\n",
       "      <th>humidity</th>\n",
       "      <th>wind_direction</th>\n",
       "      <th>pressure</th>\n",
       "      <th>visibility</th>\n",
       "      <th>description</th>\n",
       "    </tr>\n",
       "  </thead>\n",
       "  <tbody>\n",
       "    <tr>\n",
       "      <th>0</th>\n",
       "      <td>2024-04-05T15:53:00+00:00</td>\n",
       "      <td>60610</td>\n",
       "      <td>5.6</td>\n",
       "      <td>20.52</td>\n",
       "      <td>70.218719</td>\n",
       "      <td>360.0</td>\n",
       "      <td>102030.0</td>\n",
       "      <td>16090</td>\n",
       "      <td>Cloudy</td>\n",
       "    </tr>\n",
       "    <tr>\n",
       "      <th>1</th>\n",
       "      <td>2024-04-05T14:53:00+00:00</td>\n",
       "      <td>60610</td>\n",
       "      <td>5.6</td>\n",
       "      <td>18.36</td>\n",
       "      <td>67.236128</td>\n",
       "      <td>350.0</td>\n",
       "      <td>101970.0</td>\n",
       "      <td>16090</td>\n",
       "      <td>Cloudy</td>\n",
       "    </tr>\n",
       "    <tr>\n",
       "      <th>2</th>\n",
       "      <td>2024-04-05T13:53:00+00:00</td>\n",
       "      <td>60610</td>\n",
       "      <td>5.0</td>\n",
       "      <td>14.76</td>\n",
       "      <td>70.097333</td>\n",
       "      <td>10.0</td>\n",
       "      <td>101900.0</td>\n",
       "      <td>16090</td>\n",
       "      <td>Cloudy</td>\n",
       "    </tr>\n",
       "    <tr>\n",
       "      <th>3</th>\n",
       "      <td>2024-04-05T13:04:00+00:00</td>\n",
       "      <td>60610</td>\n",
       "      <td>4.4</td>\n",
       "      <td>14.76</td>\n",
       "      <td>73.095066</td>\n",
       "      <td>340.0</td>\n",
       "      <td>101860.0</td>\n",
       "      <td>16090</td>\n",
       "      <td>Mostly Cloudy</td>\n",
       "    </tr>\n",
       "    <tr>\n",
       "      <th>4</th>\n",
       "      <td>2024-04-05T12:53:00+00:00</td>\n",
       "      <td>60610</td>\n",
       "      <td>4.4</td>\n",
       "      <td>14.76</td>\n",
       "      <td>73.095066</td>\n",
       "      <td>350.0</td>\n",
       "      <td>101830.0</td>\n",
       "      <td>16090</td>\n",
       "      <td>Mostly Cloudy</td>\n",
       "    </tr>\n",
       "  </tbody>\n",
       "</table>\n",
       "</div>"
      ],
      "text/plain": [
       "                        time zip_code  temperature  wind_speed   humidity  \\\n",
       "0  2024-04-05T15:53:00+00:00    60610          5.6       20.52  70.218719   \n",
       "1  2024-04-05T14:53:00+00:00    60610          5.6       18.36  67.236128   \n",
       "2  2024-04-05T13:53:00+00:00    60610          5.0       14.76  70.097333   \n",
       "3  2024-04-05T13:04:00+00:00    60610          4.4       14.76  73.095066   \n",
       "4  2024-04-05T12:53:00+00:00    60610          4.4       14.76  73.095066   \n",
       "\n",
       "   wind_direction  pressure  visibility    description  \n",
       "0           360.0  102030.0       16090         Cloudy  \n",
       "1           350.0  101970.0       16090         Cloudy  \n",
       "2            10.0  101900.0       16090         Cloudy  \n",
       "3           340.0  101860.0       16090  Mostly Cloudy  \n",
       "4           350.0  101830.0       16090  Mostly Cloudy  "
      ]
     },
     "execution_count": 16,
     "metadata": {},
     "output_type": "execute_result"
    }
   ],
   "source": [
    "df.head()"
   ]
  },
  {
   "cell_type": "code",
   "execution_count": 17,
   "id": "b5c3c9fa",
   "metadata": {},
   "outputs": [
    {
     "data": {
      "text/plain": [
       "0      2024-04-05T15:53:00+00:00\n",
       "1      2024-04-05T14:53:00+00:00\n",
       "2      2024-04-05T13:53:00+00:00\n",
       "3      2024-04-05T13:04:00+00:00\n",
       "4      2024-04-05T12:53:00+00:00\n",
       "                 ...            \n",
       "233    2024-03-29T20:53:00+00:00\n",
       "234    2024-03-29T19:53:00+00:00\n",
       "235    2024-03-29T18:53:00+00:00\n",
       "236    2024-03-29T17:53:00+00:00\n",
       "237    2024-03-29T16:53:00+00:00\n",
       "Name: time, Length: 238, dtype: object"
      ]
     },
     "execution_count": 17,
     "metadata": {},
     "output_type": "execute_result"
    }
   ],
   "source": [
    "df['time']"
   ]
  },
  {
   "cell_type": "code",
   "execution_count": 18,
   "id": "bc4dbb8b",
   "metadata": {},
   "outputs": [
    {
     "data": {
      "text/plain": [
       "0       5.6\n",
       "1       5.6\n",
       "2       5.0\n",
       "3       4.4\n",
       "4       4.4\n",
       "       ... \n",
       "233    10.0\n",
       "234    11.1\n",
       "235    10.0\n",
       "236     9.4\n",
       "237     8.9\n",
       "Name: temperature, Length: 238, dtype: float64"
      ]
     },
     "execution_count": 18,
     "metadata": {},
     "output_type": "execute_result"
    }
   ],
   "source": [
    "df['temperature']"
   ]
  },
  {
   "cell_type": "code",
   "execution_count": 19,
   "id": "4a1bfdfc",
   "metadata": {},
   "outputs": [
    {
     "data": {
      "text/plain": [
       "0       5.6\n",
       "1       5.6\n",
       "2       5.0\n",
       "3       4.4\n",
       "4       4.4\n",
       "       ... \n",
       "233    10.0\n",
       "234    11.1\n",
       "235    10.0\n",
       "236     9.4\n",
       "237     8.9\n",
       "Name: temperature, Length: 238, dtype: float64"
      ]
     },
     "execution_count": 19,
     "metadata": {},
     "output_type": "execute_result"
    }
   ],
   "source": [
    "df.temperature"
   ]
  },
  {
   "cell_type": "markdown",
   "id": "037fc3d7-7e83-4361-a932-f742f4015acd",
   "metadata": {},
   "source": [
    "## Build a time series"
   ]
  },
  {
   "cell_type": "code",
   "execution_count": 20,
   "id": "33c3475e-daa2-4617-b593-e8d415de3459",
   "metadata": {},
   "outputs": [],
   "source": [
    "# Convert the DataFrame into a time series type of DataFrame\n",
    "df.time = pd.to_datetime(df['time'])\n"
   ]
  },
  {
   "cell_type": "code",
   "execution_count": 21,
   "id": "bc451343-3d8e-405b-892a-c332b6ddb9ec",
   "metadata": {},
   "outputs": [
    {
     "name": "stdout",
     "output_type": "stream",
     "text": [
      "<class 'pandas.core.frame.DataFrame'>\n",
      "RangeIndex: 238 entries, 0 to 237\n",
      "Data columns (total 9 columns):\n",
      " #   Column          Non-Null Count  Dtype              \n",
      "---  ------          --------------  -----              \n",
      " 0   time            238 non-null    datetime64[ns, UTC]\n",
      " 1   zip_code        238 non-null    object             \n",
      " 2   temperature     237 non-null    float64            \n",
      " 3   wind_speed      224 non-null    float64            \n",
      " 4   humidity        237 non-null    float64            \n",
      " 5   wind_direction  224 non-null    float64            \n",
      " 6   pressure        237 non-null    float64            \n",
      " 7   visibility      238 non-null    int64              \n",
      " 8   description     238 non-null    object             \n",
      "dtypes: datetime64[ns, UTC](1), float64(5), int64(1), object(2)\n",
      "memory usage: 16.9+ KB\n"
     ]
    }
   ],
   "source": [
    "df.info()"
   ]
  },
  {
   "cell_type": "code",
   "execution_count": 22,
   "id": "5637c8df-5cc7-472b-89b3-9e7851bd218d",
   "metadata": {},
   "outputs": [],
   "source": [
    "# Assign the column 'time' to be the index of my DataFrame obs_df\n",
    "df.set_index('time', inplace=True)\n"
   ]
  },
  {
   "cell_type": "code",
   "execution_count": 23,
   "id": "09f256dc-b354-40f3-b204-09d9b5a4af05",
   "metadata": {},
   "outputs": [
    {
     "data": {
      "text/html": [
       "<div>\n",
       "<style scoped>\n",
       "    .dataframe tbody tr th:only-of-type {\n",
       "        vertical-align: middle;\n",
       "    }\n",
       "\n",
       "    .dataframe tbody tr th {\n",
       "        vertical-align: top;\n",
       "    }\n",
       "\n",
       "    .dataframe thead th {\n",
       "        text-align: right;\n",
       "    }\n",
       "</style>\n",
       "<table border=\"1\" class=\"dataframe\">\n",
       "  <thead>\n",
       "    <tr style=\"text-align: right;\">\n",
       "      <th></th>\n",
       "      <th>zip_code</th>\n",
       "      <th>temperature</th>\n",
       "      <th>wind_speed</th>\n",
       "      <th>humidity</th>\n",
       "      <th>wind_direction</th>\n",
       "      <th>pressure</th>\n",
       "      <th>visibility</th>\n",
       "      <th>description</th>\n",
       "    </tr>\n",
       "    <tr>\n",
       "      <th>time</th>\n",
       "      <th></th>\n",
       "      <th></th>\n",
       "      <th></th>\n",
       "      <th></th>\n",
       "      <th></th>\n",
       "      <th></th>\n",
       "      <th></th>\n",
       "      <th></th>\n",
       "    </tr>\n",
       "  </thead>\n",
       "  <tbody>\n",
       "    <tr>\n",
       "      <th>2024-04-05 15:53:00+00:00</th>\n",
       "      <td>60610</td>\n",
       "      <td>5.6</td>\n",
       "      <td>20.52</td>\n",
       "      <td>70.218719</td>\n",
       "      <td>360.0</td>\n",
       "      <td>102030.0</td>\n",
       "      <td>16090</td>\n",
       "      <td>Cloudy</td>\n",
       "    </tr>\n",
       "    <tr>\n",
       "      <th>2024-04-05 14:53:00+00:00</th>\n",
       "      <td>60610</td>\n",
       "      <td>5.6</td>\n",
       "      <td>18.36</td>\n",
       "      <td>67.236128</td>\n",
       "      <td>350.0</td>\n",
       "      <td>101970.0</td>\n",
       "      <td>16090</td>\n",
       "      <td>Cloudy</td>\n",
       "    </tr>\n",
       "    <tr>\n",
       "      <th>2024-04-05 13:53:00+00:00</th>\n",
       "      <td>60610</td>\n",
       "      <td>5.0</td>\n",
       "      <td>14.76</td>\n",
       "      <td>70.097333</td>\n",
       "      <td>10.0</td>\n",
       "      <td>101900.0</td>\n",
       "      <td>16090</td>\n",
       "      <td>Cloudy</td>\n",
       "    </tr>\n",
       "    <tr>\n",
       "      <th>2024-04-05 13:04:00+00:00</th>\n",
       "      <td>60610</td>\n",
       "      <td>4.4</td>\n",
       "      <td>14.76</td>\n",
       "      <td>73.095066</td>\n",
       "      <td>340.0</td>\n",
       "      <td>101860.0</td>\n",
       "      <td>16090</td>\n",
       "      <td>Mostly Cloudy</td>\n",
       "    </tr>\n",
       "    <tr>\n",
       "      <th>2024-04-05 12:53:00+00:00</th>\n",
       "      <td>60610</td>\n",
       "      <td>4.4</td>\n",
       "      <td>14.76</td>\n",
       "      <td>73.095066</td>\n",
       "      <td>350.0</td>\n",
       "      <td>101830.0</td>\n",
       "      <td>16090</td>\n",
       "      <td>Mostly Cloudy</td>\n",
       "    </tr>\n",
       "  </tbody>\n",
       "</table>\n",
       "</div>"
      ],
      "text/plain": [
       "                          zip_code  temperature  wind_speed   humidity  \\\n",
       "time                                                                     \n",
       "2024-04-05 15:53:00+00:00    60610          5.6       20.52  70.218719   \n",
       "2024-04-05 14:53:00+00:00    60610          5.6       18.36  67.236128   \n",
       "2024-04-05 13:53:00+00:00    60610          5.0       14.76  70.097333   \n",
       "2024-04-05 13:04:00+00:00    60610          4.4       14.76  73.095066   \n",
       "2024-04-05 12:53:00+00:00    60610          4.4       14.76  73.095066   \n",
       "\n",
       "                           wind_direction  pressure  visibility    description  \n",
       "time                                                                            \n",
       "2024-04-05 15:53:00+00:00           360.0  102030.0       16090         Cloudy  \n",
       "2024-04-05 14:53:00+00:00           350.0  101970.0       16090         Cloudy  \n",
       "2024-04-05 13:53:00+00:00            10.0  101900.0       16090         Cloudy  \n",
       "2024-04-05 13:04:00+00:00           340.0  101860.0       16090  Mostly Cloudy  \n",
       "2024-04-05 12:53:00+00:00           350.0  101830.0       16090  Mostly Cloudy  "
      ]
     },
     "execution_count": 23,
     "metadata": {},
     "output_type": "execute_result"
    }
   ],
   "source": [
    "df.head()"
   ]
  },
  {
   "cell_type": "markdown",
   "id": "4ebf64fb-3c9a-4b04-a1d6-d3ba4d0a9836",
   "metadata": {},
   "source": [
    "## Pandas plot on time series\n",
    "\n",
    "Pandas has a plot() method that you can use easily on a time series."
   ]
  },
  {
   "cell_type": "code",
   "execution_count": 24,
   "id": "a5746a5a-76ac-4a9a-b102-59a5ab45fe26",
   "metadata": {},
   "outputs": [
    {
     "data": {
      "text/plain": [
       "<Axes: xlabel='time'>"
      ]
     },
     "execution_count": 24,
     "metadata": {},
     "output_type": "execute_result"
    },
    {
     "data": {
      "image/png": "[encoded data removed]",
      "text/plain": [
       "<Figure size 640x480 with 1 Axes>"
      ]
     },
     "metadata": {},
     "output_type": "display_data"
    }
   ],
   "source": [
    "df.temperature.plot()"
   ]
  },
  {
   "cell_type": "code",
   "execution_count": 25,
   "id": "1c2973ca-6293-464c-9659-d884e615734a",
   "metadata": {},
   "outputs": [
    {
     "data": {
      "text/plain": [
       "<Axes: xlabel='time'>"
      ]
     },
     "execution_count": 25,
     "metadata": {},
     "output_type": "execute_result"
    },
    {
     "data": {
      "image/png": "[encoded data removed]",
      "text/plain": [
       "<Figure size 640x480 with 1 Axes>"
      ]
     },
     "metadata": {},
     "output_type": "display_data"
    }
   ],
   "source": [
    "df.wind_speed.plot()"
   ]
  },
  {
   "cell_type": "code",
   "execution_count": 26,
   "id": "c6a35dca-15d0-4e6c-ac92-8d041e205c56",
   "metadata": {},
   "outputs": [
    {
     "data": {
      "text/plain": [
       "<Axes: xlabel='time'>"
      ]
     },
     "execution_count": 26,
     "metadata": {},
     "output_type": "execute_result"
    },
    {
     "data": {
      "image/png": "[encoded data removed]",
      "text/plain": [
       "<Figure size 640x480 with 1 Axes>"
      ]
     },
     "metadata": {},
     "output_type": "display_data"
    }
   ],
   "source": [
    "df.humidity.plot()"
   ]
  },
  {
   "cell_type": "code",
   "execution_count": 27,
   "id": "2ab11909-7e68-4829-b786-382f80d54f0c",
   "metadata": {},
   "outputs": [
    {
     "name": "stdout",
     "output_type": "stream",
     "text": [
      "<class 'pandas.core.frame.DataFrame'>\n",
      "DatetimeIndex: 238 entries, 2024-04-05 15:53:00+00:00 to 2024-03-29 16:53:00+00:00\n",
      "Data columns (total 8 columns):\n",
      " #   Column          Non-Null Count  Dtype  \n",
      "---  ------          --------------  -----  \n",
      " 0   zip_code        238 non-null    object \n",
      " 1   temperature     237 non-null    float64\n",
      " 2   wind_speed      224 non-null    float64\n",
      " 3   humidity        237 non-null    float64\n",
      " 4   wind_direction  224 non-null    float64\n",
      " 5   pressure        237 non-null    float64\n",
      " 6   visibility      238 non-null    int64  \n",
      " 7   description     238 non-null    object \n",
      "dtypes: float64(5), int64(1), object(2)\n",
      "memory usage: 16.7+ KB\n"
     ]
    }
   ],
   "source": [
    "df.info()"
   ]
  }
 ],
 "metadata": {
  "kernelspec": {
   "display_name": "Python 3 (ipykernel)",
   "language": "python",
   "name": "python3"
  },
  "language_info": {
   "codemirror_mode": {
    "name": "ipython",
    "version": 3
   },
   "file_extension": ".py",
   "mimetype": "text/x-python",
   "name": "python",
   "nbconvert_exporter": "python",
   "pygments_lexer": "ipython3",
   "version": "3.9.19"
  },
  "varInspector": {
   "cols": {
    "lenName": 16,
    "lenType": 16,
    "lenVar": 40
   },
   "kernels_config": {
    "python": {
     "delete_cmd_postfix": "",
     "delete_cmd_prefix": "del ",
     "library": "var_list.py",
     "varRefreshCmd": "print(var_dic_list())"
    },
    "r": {
     "delete_cmd_postfix": ") ",
     "delete_cmd_prefix": "rm(",
     "library": "var_list.r",
     "varRefreshCmd": "cat(var_dic_list()) "
    }
   },
   "types_to_exclude": [
    "module",
    "function",
    "builtin_function_or_method",
    "instance",
    "_Feature"
   ],
   "window_display": false
  }
 },
 "nbformat": 4,
 "nbformat_minor": 5
}
