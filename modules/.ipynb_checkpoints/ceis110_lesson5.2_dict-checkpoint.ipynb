{
 "cells": [
  {
   "cell_type": "markdown",
   "id": "321450e6",
   "metadata": {},
   "source": [
    "# CEIS110 Module 5.2 - Intro to Dictionaries\n",
    "\n",
    "Author: Oscar A. Trevizo\n",
    "\n",
    "Date: March 28, 2024\n",
    "\n",
    "References:\n",
    "\n",
    "- https://docs.python.org/3/tutorial/datastructures.html"
   ]
  },
  {
   "cell_type": "markdown",
   "id": "c861c60f",
   "metadata": {},
   "source": [
    "# Dictionary basics"
   ]
  },
  {
   "cell_type": "code",
   "execution_count": 1,
   "id": "d065000a",
   "metadata": {},
   "outputs": [],
   "source": [
    "my_dict = {'artist':'Paul Gauguin', 'city':'Paris', 'country':'France'}"
   ]
  },
  {
   "cell_type": "code",
   "execution_count": null,
   "id": "989e7c79",
   "metadata": {},
   "outputs": [],
   "source": [
    "print(my_dict)"
   ]
  },
  {
   "cell_type": "markdown",
   "id": "67bfe11f",
   "metadata": {},
   "source": [
    "# Dictionaries are objects of class name 'dict'"
   ]
  },
  {
   "cell_type": "code",
   "execution_count": 2,
   "id": "5527b071",
   "metadata": {
    "scrolled": true
   },
   "outputs": [
    {
     "data": {
      "text/plain": [
       "['__class__',\n",
       " '__class_getitem__',\n",
       " '__contains__',\n",
       " '__delattr__',\n",
       " '__delitem__',\n",
       " '__dir__',\n",
       " '__doc__',\n",
       " '__eq__',\n",
       " '__format__',\n",
       " '__ge__',\n",
       " '__getattribute__',\n",
       " '__getitem__',\n",
       " '__gt__',\n",
       " '__hash__',\n",
       " '__init__',\n",
       " '__init_subclass__',\n",
       " '__ior__',\n",
       " '__iter__',\n",
       " '__le__',\n",
       " '__len__',\n",
       " '__lt__',\n",
       " '__ne__',\n",
       " '__new__',\n",
       " '__or__',\n",
       " '__reduce__',\n",
       " '__reduce_ex__',\n",
       " '__repr__',\n",
       " '__reversed__',\n",
       " '__ror__',\n",
       " '__setattr__',\n",
       " '__setitem__',\n",
       " '__sizeof__',\n",
       " '__str__',\n",
       " '__subclasshook__',\n",
       " 'clear',\n",
       " 'copy',\n",
       " 'fromkeys',\n",
       " 'get',\n",
       " 'items',\n",
       " 'keys',\n",
       " 'pop',\n",
       " 'popitem',\n",
       " 'setdefault',\n",
       " 'update',\n",
       " 'values']"
      ]
     },
     "execution_count": 2,
     "metadata": {},
     "output_type": "execute_result"
    }
   ],
   "source": [
    "# dir() will show you methods soported by a class. In this case 'dict'\n",
    "dir(dict)"
   ]
  },
  {
   "cell_type": "code",
   "execution_count": 3,
   "id": "b85d54b7",
   "metadata": {
    "scrolled": true
   },
   "outputs": [
    {
     "name": "stdout",
     "output_type": "stream",
     "text": [
      "Help on method_descriptor:\n",
      "\n",
      "items(...)\n",
      "    D.items() -> a set-like object providing a view on D's items\n",
      "\n"
     ]
    }
   ],
   "source": [
    "help(dict.items)"
   ]
  },
  {
   "cell_type": "code",
   "execution_count": 4,
   "id": "8170f3f0",
   "metadata": {},
   "outputs": [
    {
     "name": "stdout",
     "output_type": "stream",
     "text": [
      "Help on method_descriptor:\n",
      "\n",
      "update(...)\n",
      "    D.update([E, ]**F) -> None.  Update D from dict/iterable E and F.\n",
      "    If E is present and has a .keys() method, then does:  for k in E: D[k] = E[k]\n",
      "    If E is present and lacks a .keys() method, then does:  for k, v in E: D[k] = v\n",
      "    In either case, this is followed by: for k in F:  D[k] = F[k]\n",
      "\n"
     ]
    }
   ],
   "source": [
    "help(dict.update)"
   ]
  },
  {
   "cell_type": "code",
   "execution_count": 5,
   "id": "751ef334",
   "metadata": {},
   "outputs": [
    {
     "name": "stdout",
     "output_type": "stream",
     "text": [
      "Help on method_descriptor:\n",
      "\n",
      "values(...)\n",
      "    D.values() -> an object providing a view on D's values\n",
      "\n"
     ]
    }
   ],
   "source": [
    "help(dict.values)"
   ]
  },
  {
   "cell_type": "code",
   "execution_count": 6,
   "id": "9d33b7fd",
   "metadata": {},
   "outputs": [
    {
     "name": "stdout",
     "output_type": "stream",
     "text": [
      "Help on method_descriptor:\n",
      "\n",
      "keys(...)\n",
      "    D.keys() -> a set-like object providing a view on D's keys\n",
      "\n"
     ]
    }
   ],
   "source": [
    "help(dict.keys)"
   ]
  },
  {
   "cell_type": "code",
   "execution_count": 7,
   "id": "1766395b",
   "metadata": {},
   "outputs": [
    {
     "name": "stdout",
     "output_type": "stream",
     "text": [
      "Help on method_descriptor:\n",
      "\n",
      "pop(...)\n",
      "    D.pop(k[,d]) -> v, remove specified key and return the corresponding value.\n",
      "    \n",
      "    If key is not found, default is returned if given, otherwise KeyError is raised\n",
      "\n"
     ]
    }
   ],
   "source": [
    "help(dict.pop)"
   ]
  },
  {
   "cell_type": "code",
   "execution_count": 8,
   "id": "d5444f11",
   "metadata": {},
   "outputs": [
    {
     "name": "stdout",
     "output_type": "stream",
     "text": [
      "Help on method_descriptor:\n",
      "\n",
      "popitem(self, /)\n",
      "    Remove and return a (key, value) pair as a 2-tuple.\n",
      "    \n",
      "    Pairs are returned in LIFO (last-in, first-out) order.\n",
      "    Raises KeyError if the dict is empty.\n",
      "\n"
     ]
    }
   ],
   "source": [
    "help(dict.popitem)"
   ]
  },
  {
   "cell_type": "markdown",
   "id": "e0f0fc22",
   "metadata": {},
   "source": [
    "# Dictionary basics"
   ]
  },
  {
   "cell_type": "code",
   "execution_count": 9,
   "id": "dce93e12",
   "metadata": {},
   "outputs": [],
   "source": [
    "gauguin = {'artist':'Paul Gauguin', 'city':'Paris', 'country':'France'}"
   ]
  },
  {
   "cell_type": "code",
   "execution_count": 10,
   "id": "22c86163",
   "metadata": {},
   "outputs": [
    {
     "name": "stdout",
     "output_type": "stream",
     "text": [
      "{'artist': 'Paul Gauguin', 'city': 'Paris', 'country': 'France'}\n"
     ]
    }
   ],
   "source": [
    "print(gauguin)"
   ]
  },
  {
   "cell_type": "code",
   "execution_count": 11,
   "id": "6e6fe3fb",
   "metadata": {},
   "outputs": [
    {
     "data": {
      "text/plain": [
       "dict"
      ]
     },
     "execution_count": 11,
     "metadata": {},
     "output_type": "execute_result"
    }
   ],
   "source": [
    "type(gauguin)"
   ]
  },
  {
   "cell_type": "code",
   "execution_count": 12,
   "id": "3afa1bd5",
   "metadata": {},
   "outputs": [
    {
     "data": {
      "text/plain": [
       "3"
      ]
     },
     "execution_count": 12,
     "metadata": {},
     "output_type": "execute_result"
    }
   ],
   "source": [
    "len(gauguin)"
   ]
  },
  {
   "cell_type": "code",
   "execution_count": 13,
   "id": "5bb1cd3e",
   "metadata": {},
   "outputs": [
    {
     "data": {
      "text/plain": [
       "'Paris'"
      ]
     },
     "execution_count": 13,
     "metadata": {},
     "output_type": "execute_result"
    }
   ],
   "source": [
    "gauguin['city']"
   ]
  },
  {
   "cell_type": "code",
   "execution_count": 14,
   "id": "6c927473",
   "metadata": {},
   "outputs": [
    {
     "data": {
      "text/plain": [
       "'Paul Gauguin'"
      ]
     },
     "execution_count": 14,
     "metadata": {},
     "output_type": "execute_result"
    }
   ],
   "source": [
    "gauguin['artist']"
   ]
  },
  {
   "cell_type": "markdown",
   "id": "31a9d583",
   "metadata": {},
   "source": [
    "# Dictionary keys"
   ]
  },
  {
   "cell_type": "code",
   "execution_count": 15,
   "id": "67c08302",
   "metadata": {},
   "outputs": [
    {
     "data": {
      "text/plain": [
       "{'artist': 'Paul Gauguin', 'city': 'Paris', 'country': 'France'}"
      ]
     },
     "execution_count": 15,
     "metadata": {},
     "output_type": "execute_result"
    }
   ],
   "source": [
    "gauguin"
   ]
  },
  {
   "cell_type": "code",
   "execution_count": 16,
   "id": "6e1b7101",
   "metadata": {},
   "outputs": [],
   "source": [
    "gauguin_keys = gauguin.keys()"
   ]
  },
  {
   "cell_type": "code",
   "execution_count": 17,
   "id": "28f8c7c1",
   "metadata": {},
   "outputs": [
    {
     "data": {
      "text/plain": [
       "dict_keys(['artist', 'city', 'country'])"
      ]
     },
     "execution_count": 17,
     "metadata": {},
     "output_type": "execute_result"
    }
   ],
   "source": [
    "gauguin_keys"
   ]
  },
  {
   "cell_type": "code",
   "execution_count": 18,
   "id": "125c0dba",
   "metadata": {},
   "outputs": [
    {
     "data": {
      "text/plain": [
       "dict_keys"
      ]
     },
     "execution_count": 18,
     "metadata": {},
     "output_type": "execute_result"
    }
   ],
   "source": [
    "type(gauguin_keys)"
   ]
  },
  {
   "cell_type": "code",
   "execution_count": 19,
   "id": "dd9cedaf",
   "metadata": {},
   "outputs": [],
   "source": [
    "list_keys = list(gauguin_keys)"
   ]
  },
  {
   "cell_type": "code",
   "execution_count": 20,
   "id": "1dc5e279",
   "metadata": {},
   "outputs": [
    {
     "data": {
      "text/plain": [
       "['artist', 'city', 'country']"
      ]
     },
     "execution_count": 20,
     "metadata": {},
     "output_type": "execute_result"
    }
   ],
   "source": [
    "list_keys"
   ]
  },
  {
   "cell_type": "code",
   "execution_count": 21,
   "id": "87479498",
   "metadata": {},
   "outputs": [
    {
     "data": {
      "text/plain": [
       "list"
      ]
     },
     "execution_count": 21,
     "metadata": {},
     "output_type": "execute_result"
    }
   ],
   "source": [
    "type(list_keys)"
   ]
  },
  {
   "cell_type": "markdown",
   "id": "de9def65",
   "metadata": {},
   "source": [
    "# Dictionary values"
   ]
  },
  {
   "cell_type": "code",
   "execution_count": 22,
   "id": "d495c725",
   "metadata": {},
   "outputs": [],
   "source": [
    "gauguin_values = gauguin.values()"
   ]
  },
  {
   "cell_type": "code",
   "execution_count": 23,
   "id": "8bf16db6",
   "metadata": {},
   "outputs": [
    {
     "data": {
      "text/plain": [
       "dict_values(['Paul Gauguin', 'Paris', 'France'])"
      ]
     },
     "execution_count": 23,
     "metadata": {},
     "output_type": "execute_result"
    }
   ],
   "source": [
    "gauguin_values"
   ]
  },
  {
   "cell_type": "code",
   "execution_count": 24,
   "id": "176082b6",
   "metadata": {},
   "outputs": [
    {
     "data": {
      "text/plain": [
       "dict_values"
      ]
     },
     "execution_count": 24,
     "metadata": {},
     "output_type": "execute_result"
    }
   ],
   "source": [
    "type(gauguin_values)"
   ]
  },
  {
   "cell_type": "code",
   "execution_count": 25,
   "id": "20c100ad",
   "metadata": {},
   "outputs": [],
   "source": [
    "list_values = list(gauguin_values)"
   ]
  },
  {
   "cell_type": "code",
   "execution_count": 26,
   "id": "87e23357",
   "metadata": {},
   "outputs": [
    {
     "data": {
      "text/plain": [
       "['Paul Gauguin', 'Paris', 'France']"
      ]
     },
     "execution_count": 26,
     "metadata": {},
     "output_type": "execute_result"
    }
   ],
   "source": [
    "list_values"
   ]
  },
  {
   "cell_type": "code",
   "execution_count": 27,
   "id": "6d4a69fc",
   "metadata": {},
   "outputs": [
    {
     "data": {
      "text/plain": [
       "list"
      ]
     },
     "execution_count": 27,
     "metadata": {},
     "output_type": "execute_result"
    }
   ],
   "source": [
    "type(list_values)"
   ]
  },
  {
   "cell_type": "markdown",
   "id": "255b9805",
   "metadata": {},
   "source": [
    "# Adding items to a dictionary"
   ]
  },
  {
   "cell_type": "code",
   "execution_count": 28,
   "id": "cee4e52f",
   "metadata": {},
   "outputs": [],
   "source": [
    "# Using method .update()\n",
    "gauguin.update({'year_born':1848})"
   ]
  },
  {
   "cell_type": "code",
   "execution_count": 29,
   "id": "08535a40",
   "metadata": {},
   "outputs": [
    {
     "data": {
      "text/plain": [
       "{'artist': 'Paul Gauguin',\n",
       " 'city': 'Paris',\n",
       " 'country': 'France',\n",
       " 'year_born': 1848}"
      ]
     },
     "execution_count": 29,
     "metadata": {},
     "output_type": "execute_result"
    }
   ],
   "source": [
    "gauguin"
   ]
  },
  {
   "cell_type": "code",
   "execution_count": 30,
   "id": "0877d9a0",
   "metadata": {},
   "outputs": [],
   "source": [
    "# Using key with brackets[]\n",
    "gauguin['year_died'] = 1903"
   ]
  },
  {
   "cell_type": "code",
   "execution_count": 31,
   "id": "e3f8f008",
   "metadata": {},
   "outputs": [],
   "source": [
    "gauguin['age'] = 54"
   ]
  },
  {
   "cell_type": "code",
   "execution_count": 32,
   "id": "4dec86d2",
   "metadata": {},
   "outputs": [
    {
     "data": {
      "text/plain": [
       "{'artist': 'Paul Gauguin',\n",
       " 'city': 'Paris',\n",
       " 'country': 'France',\n",
       " 'year_born': 1848,\n",
       " 'year_died': 1903,\n",
       " 'age': 54}"
      ]
     },
     "execution_count": 32,
     "metadata": {},
     "output_type": "execute_result"
    }
   ],
   "source": [
    "gauguin"
   ]
  },
  {
   "cell_type": "markdown",
   "id": "0c2e2343",
   "metadata": {},
   "source": [
    "# Deleting items from a dictionary"
   ]
  },
  {
   "cell_type": "code",
   "execution_count": 33,
   "id": "7a8c9f13",
   "metadata": {},
   "outputs": [],
   "source": [
    "# Using 'del' built in keyword in Python\n",
    "del gauguin['year_died']"
   ]
  },
  {
   "cell_type": "code",
   "execution_count": 34,
   "id": "d01b194a",
   "metadata": {},
   "outputs": [
    {
     "data": {
      "text/plain": [
       "{'artist': 'Paul Gauguin',\n",
       " 'city': 'Paris',\n",
       " 'country': 'France',\n",
       " 'year_born': 1848,\n",
       " 'age': 54}"
      ]
     },
     "execution_count": 34,
     "metadata": {},
     "output_type": "execute_result"
    }
   ],
   "source": [
    "gauguin"
   ]
  },
  {
   "cell_type": "code",
   "execution_count": 35,
   "id": "796ab263",
   "metadata": {},
   "outputs": [],
   "source": [
    "# Add it again\n",
    "gauguin['year_died'] = 1903"
   ]
  },
  {
   "cell_type": "code",
   "execution_count": 36,
   "id": "2274c3f3",
   "metadata": {},
   "outputs": [
    {
     "data": {
      "text/plain": [
       "{'artist': 'Paul Gauguin',\n",
       " 'city': 'Paris',\n",
       " 'country': 'France',\n",
       " 'year_born': 1848,\n",
       " 'age': 54,\n",
       " 'year_died': 1903}"
      ]
     },
     "execution_count": 36,
     "metadata": {},
     "output_type": "execute_result"
    }
   ],
   "source": [
    "gauguin"
   ]
  },
  {
   "cell_type": "code",
   "execution_count": 37,
   "id": "99f2773f",
   "metadata": {},
   "outputs": [
    {
     "data": {
      "text/plain": [
       "1903"
      ]
     },
     "execution_count": 37,
     "metadata": {},
     "output_type": "execute_result"
    }
   ],
   "source": [
    "# Remove a value using the 'pop' method\n",
    "gauguin.pop('year_died')"
   ]
  },
  {
   "cell_type": "code",
   "execution_count": 38,
   "id": "a60d4361",
   "metadata": {},
   "outputs": [
    {
     "data": {
      "text/plain": [
       "{'artist': 'Paul Gauguin',\n",
       " 'city': 'Paris',\n",
       " 'country': 'France',\n",
       " 'year_born': 1848,\n",
       " 'age': 54}"
      ]
     },
     "execution_count": 38,
     "metadata": {},
     "output_type": "execute_result"
    }
   ],
   "source": [
    "gauguin"
   ]
  },
  {
   "cell_type": "code",
   "execution_count": 39,
   "id": "94060b02",
   "metadata": {},
   "outputs": [],
   "source": [
    "# Add it back\n",
    "gauguin['year_died'] = 1903"
   ]
  },
  {
   "cell_type": "code",
   "execution_count": 40,
   "id": "d32f66ce",
   "metadata": {},
   "outputs": [
    {
     "data": {
      "text/plain": [
       "{'artist': 'Paul Gauguin',\n",
       " 'city': 'Paris',\n",
       " 'country': 'France',\n",
       " 'year_born': 1848,\n",
       " 'age': 54,\n",
       " 'year_died': 1903}"
      ]
     },
     "execution_count": 40,
     "metadata": {},
     "output_type": "execute_result"
    }
   ],
   "source": [
    "gauguin"
   ]
  },
  {
   "cell_type": "markdown",
   "id": "433653a5",
   "metadata": {},
   "source": [
    "# Values with other data types, like lists"
   ]
  },
  {
   "cell_type": "code",
   "execution_count": 41,
   "id": "3604b8c0",
   "metadata": {},
   "outputs": [],
   "source": [
    "# Using method .update()\n",
    "gauguin.update({'paintings':['Tahitian Women', 'Vision After the Sermon', 'Arearea', 'Day of the God']})"
   ]
  },
  {
   "cell_type": "code",
   "execution_count": 42,
   "id": "3f18d0a3",
   "metadata": {},
   "outputs": [
    {
     "data": {
      "text/plain": [
       "{'artist': 'Paul Gauguin',\n",
       " 'city': 'Paris',\n",
       " 'country': 'France',\n",
       " 'year_born': 1848,\n",
       " 'age': 54,\n",
       " 'year_died': 1903,\n",
       " 'paintings': ['Tahitian Women',\n",
       "  'Vision After the Sermon',\n",
       "  'Arearea',\n",
       "  'Day of the God']}"
      ]
     },
     "execution_count": 42,
     "metadata": {},
     "output_type": "execute_result"
    }
   ],
   "source": [
    "gauguin"
   ]
  },
  {
   "cell_type": "markdown",
   "id": "8557e372",
   "metadata": {},
   "source": [
    "# Lists in the values of each key"
   ]
  },
  {
   "cell_type": "code",
   "execution_count": 43,
   "id": "bf917a15",
   "metadata": {},
   "outputs": [],
   "source": [
    "painters = {'name' : ['Gauguin', 'Van Gogh', 'Seurat'],\n",
    "           'city' : ['Paris', 'Zundert', 'Paris'],\n",
    "           'country': ['France', 'Netherlands', 'France']}"
   ]
  },
  {
   "cell_type": "code",
   "execution_count": 44,
   "id": "2f5d4eca",
   "metadata": {},
   "outputs": [
    {
     "data": {
      "text/plain": [
       "{'name': ['Gauguin', 'Van Gogh', 'Seurat'],\n",
       " 'city': ['Paris', 'Zundert', 'Paris'],\n",
       " 'country': ['France', 'Netherlands', 'France']}"
      ]
     },
     "execution_count": 44,
     "metadata": {},
     "output_type": "execute_result"
    }
   ],
   "source": [
    "painters"
   ]
  }
 ],
 "metadata": {
  "kernelspec": {
   "display_name": "Python 3 (ipykernel)",
   "language": "python",
   "name": "python3"
  },
  "language_info": {
   "codemirror_mode": {
    "name": "ipython",
    "version": 3
   },
   "file_extension": ".py",
   "mimetype": "text/x-python",
   "name": "python",
   "nbconvert_exporter": "python",
   "pygments_lexer": "ipython3",
   "version": "3.9.19"
  },
  "varInspector": {
   "cols": {
    "lenName": 16,
    "lenType": 16,
    "lenVar": 40
   },
   "kernels_config": {
    "python": {
     "delete_cmd_postfix": "",
     "delete_cmd_prefix": "del ",
     "library": "var_list.py",
     "varRefreshCmd": "print(var_dic_list())"
    },
    "r": {
     "delete_cmd_postfix": ") ",
     "delete_cmd_prefix": "rm(",
     "library": "var_list.r",
     "varRefreshCmd": "cat(var_dic_list()) "
    }
   },
   "types_to_exclude": [
    "module",
    "function",
    "builtin_function_or_method",
    "instance",
    "_Feature"
   ],
   "window_display": false
  }
 },
 "nbformat": 4,
 "nbformat_minor": 5
}
