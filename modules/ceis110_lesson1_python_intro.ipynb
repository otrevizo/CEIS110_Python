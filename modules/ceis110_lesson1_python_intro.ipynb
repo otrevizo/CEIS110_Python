{
 "cells": [
  {
   "cell_type": "markdown",
   "id": "8eba4314",
   "metadata": {},
   "source": [
    "# CEIS110 Module 1 - Intro to Python\n",
    "\n",
    "Author: Prof. Oscar Trevizo\n",
    "\n",
    "Date: February 26, 2024"
   ]
  },
  {
   "cell_type": "markdown",
   "id": "b3a7fb40",
   "metadata": {},
   "source": [
    "# Math operators\n",
    "\n",
    "<table>\n",
    "    <tr>\n",
    "        <th>Symbol</th>\n",
    "        <th>Operation</th>\n",
    "        <th>Description</th>\n",
    "    </tr>\n",
    "    <tr>\n",
    "        <td> + </td>\n",
    "        <td> Add </td>\n",
    "    </tr>\n",
    "    <tr>\n",
    "        <td> - </td>\n",
    "        <td> Subtract </td>\n",
    "    </tr>\n",
    "    <tr>\n",
    "        <td> * </td>\n",
    "        <td> Multiply </td>\n",
    "    </tr>\n",
    "    <tr>\n",
    "        <td> /</td>\n",
    "        <td> Divide</td>\n",
    "        <td> The result is a floating point number </td>\n",
    "    </tr>\n",
    "    <tr>\n",
    "        <td> //</td>\n",
    "        <td> Floor division</td>\n",
    "        <td> The result is integer </td>\n",
    "    </tr>\n",
    "    <tr>\n",
    "        <td> %</td>\n",
    "        <td> Remainder</td>\n",
    "        <td> Divides one number by another and gives the remainder </td>\n",
    "    </tr>\n",
    "    <tr>\n",
    "        <td> **</td>\n",
    "        <td> Exponent</td>\n",
    "        <td> raises the power</td>\n",
    "    </tr>\n",
    "    \n",
    "</table>"
   ]
  },
  {
   "cell_type": "markdown",
   "id": "9fc0bb22",
   "metadata": {},
   "source": [
    "# Variable Naming\n",
    "I. you cannot use python's keywords for naming variable examples:\n",
    "\n",
    "1. and \n",
    "2. del \n",
    "3. from \n",
    "4. None \n",
    "5. True\n",
    "6. as \n",
    "7. elif\n",
    "8. def\n",
    "9. else   \n",
    "are some examples.\n",
    "\n",
    "II. No spaces between variable names. For example the variable \" fruit name\" is incorrect\n",
    "\n",
    "III. first character a-z, A-Z or underscore .Examples : a , _a, fruit, Fruit \n",
    "\n",
    "IV. After first character you can use a-z, A-Z , 0-9 or underscore .Examples : a20, a_20, _20 \n",
    "\n",
    "V. Case sensitive ,  fruit, and Fruits are considered distince.\n"
   ]
  },
  {
   "cell_type": "code",
   "execution_count": 1,
   "id": "9ca97531",
   "metadata": {},
   "outputs": [
    {
     "name": "stdout",
     "output_type": "stream",
     "text": [
      "apple 10 0.75\n"
     ]
    }
   ],
   "source": [
    "# Declaring and storing values in variables\n",
    "\n",
    "# Declares a string\n",
    "apples_name = 'apple'\n",
    "\n",
    "# Declares an int\n",
    "apples_count = 10\n",
    "\n",
    "# Declares a float\n",
    "apples_price = 0.75\n",
    "\n",
    "\n",
    "print(apples_name, apples_count, apples_price)"
   ]
  },
  {
   "cell_type": "code",
   "execution_count": 2,
   "id": "2dbc04c3",
   "metadata": {},
   "outputs": [
    {
     "data": {
      "text/plain": [
       "'apple'"
      ]
     },
     "execution_count": 2,
     "metadata": {},
     "output_type": "execute_result"
    }
   ],
   "source": [
    "apples_name"
   ]
  },
  {
   "cell_type": "code",
   "execution_count": 3,
   "id": "4235f502",
   "metadata": {},
   "outputs": [
    {
     "data": {
      "text/plain": [
       "10"
      ]
     },
     "execution_count": 3,
     "metadata": {},
     "output_type": "execute_result"
    }
   ],
   "source": [
    "apples_count"
   ]
  },
  {
   "cell_type": "code",
   "execution_count": 4,
   "id": "2aa4abdc",
   "metadata": {},
   "outputs": [
    {
     "data": {
      "text/plain": [
       "0.75"
      ]
     },
     "execution_count": 4,
     "metadata": {},
     "output_type": "execute_result"
    }
   ],
   "source": [
    "apples_price"
   ]
  },
  {
   "cell_type": "code",
   "execution_count": 5,
   "id": "8d462ce8",
   "metadata": {},
   "outputs": [
    {
     "name": "stdout",
     "output_type": "stream",
     "text": [
      "The value of my apples is =  7.5 dollars\n"
     ]
    }
   ],
   "source": [
    "# Multiplication\n",
    "values_of_apples = apples_count * apples_price\n",
    "\n",
    "print('The value of my apples is = ', values_of_apples, 'dollars')"
   ]
  },
  {
   "cell_type": "code",
   "execution_count": 6,
   "id": "ccf43ba6",
   "metadata": {},
   "outputs": [
    {
     "data": {
      "text/plain": [
       "7.5"
      ]
     },
     "execution_count": 6,
     "metadata": {},
     "output_type": "execute_result"
    }
   ],
   "source": [
    "values_of_apples"
   ]
  },
  {
   "cell_type": "code",
   "execution_count": 7,
   "id": "31e4fbd6",
   "metadata": {},
   "outputs": [
    {
     "name": "stdout",
     "output_type": "stream",
     "text": [
      "Orange 20 0.5\n"
     ]
    }
   ],
   "source": [
    "# now let's get some oranges\n",
    "oranges_name = 'Orange'\n",
    "oranges_count = 20\n",
    "oranges_price = 0.5\n",
    "\n",
    "print(oranges_name, oranges_count, oranges_price)"
   ]
  },
  {
   "cell_type": "code",
   "execution_count": 8,
   "id": "6a290355",
   "metadata": {},
   "outputs": [
    {
     "name": "stdout",
     "output_type": "stream",
     "text": [
      "The total number of fruit, apples and oranges is = 30\n"
     ]
    }
   ],
   "source": [
    "# Addition\n",
    "tot_fruit = apples_count + oranges_count\n",
    "\n",
    "print('The total number of fruit, apples and oranges is =', tot_fruit)"
   ]
  },
  {
   "cell_type": "code",
   "execution_count": 9,
   "id": "56efbf0e",
   "metadata": {},
   "outputs": [
    {
     "data": {
      "text/plain": [
       "30"
      ]
     },
     "execution_count": 9,
     "metadata": {},
     "output_type": "execute_result"
    }
   ],
   "source": [
    "apples_count + oranges_count"
   ]
  },
  {
   "cell_type": "code",
   "execution_count": 10,
   "id": "dc907a49",
   "metadata": {},
   "outputs": [
    {
     "data": {
      "text/plain": [
       "30"
      ]
     },
     "execution_count": 10,
     "metadata": {},
     "output_type": "execute_result"
    }
   ],
   "source": [
    "tot_fruit"
   ]
  },
  {
   "cell_type": "code",
   "execution_count": 11,
   "id": "e9584d4d",
   "metadata": {},
   "outputs": [
    {
     "name": "stdout",
     "output_type": "stream",
     "text": [
      "I ate some apples, so my total now is = 7\n"
     ]
    }
   ],
   "source": [
    "# Subtraction - Eat some apples\n",
    "apples_count =  apples_count - 3\n",
    "\n",
    "print('I ate some apples, so my total now is =', apples_count)"
   ]
  },
  {
   "cell_type": "markdown",
   "id": "b856bf4a",
   "metadata": {},
   "source": [
    "# References:\n",
    "\n",
    "https://docs.python.org/3/\n",
    "\n",
    "https://github.com/otrevizo/CEIS110_Python_Jul2023\n",
    "\n",
    "https://github.com/jakevdp/WhirlwindTourOfPython\n",
    "\n",
    "https://www.geeksforgeeks.org/python-keywords-and-identifiers/\n"
   ]
  },
  {
   "cell_type": "code",
   "execution_count": null,
   "id": "5718aaae",
   "metadata": {},
   "outputs": [],
   "source": []
  }
 ],
 "metadata": {
  "kernelspec": {
   "display_name": "Python 3 (ipykernel)",
   "language": "python",
   "name": "python3"
  },
  "language_info": {
   "codemirror_mode": {
    "name": "ipython",
    "version": 3
   },
   "file_extension": ".py",
   "mimetype": "text/x-python",
   "name": "python",
   "nbconvert_exporter": "python",
   "pygments_lexer": "ipython3",
   "version": "3.9.13"
  },
  "varInspector": {
   "cols": {
    "lenName": 16,
    "lenType": 16,
    "lenVar": 40
   },
   "kernels_config": {
    "python": {
     "delete_cmd_postfix": "",
     "delete_cmd_prefix": "del ",
     "library": "var_list.py",
     "varRefreshCmd": "print(var_dic_list())"
    },
    "r": {
     "delete_cmd_postfix": ") ",
     "delete_cmd_prefix": "rm(",
     "library": "var_list.r",
     "varRefreshCmd": "cat(var_dic_list()) "
    }
   },
   "types_to_exclude": [
    "module",
    "function",
    "builtin_function_or_method",
    "instance",
    "_Feature"
   ],
   "window_display": false
  }
 },
 "nbformat": 4,
 "nbformat_minor": 5
}
