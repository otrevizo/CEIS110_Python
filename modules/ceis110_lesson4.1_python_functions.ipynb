{
 "cells": [
  {
   "cell_type": "markdown",
   "id": "a76b29a5-e9d8-4b22-b2a8-cb146e69b6c5",
   "metadata": {},
   "source": [
    "# CEIS110 Module 4.1 - Python functions\n",
    "\n",
    "Author: Prof. Oscar Trevizo\n",
    "\n",
    "Date: July 26, 2023\n",
    "\n",
    "## Reference\n",
    "- https://github.com/otrevizo/Python/blob/main/python_vignettes/python_functions_vignette_library.ipynb\n",
    "- https://docs.python.org/3/tutorial/controlflow.html#defining-functions \n",
    "- https://youtu.be/b1_FkpCvNlw"
   ]
  },
  {
   "cell_type": "markdown",
   "id": "8dad5066-0ce4-4ae2-a251-55ebc2476d42",
   "metadata": {},
   "source": [
    "Some properties of Python functions:\n",
    "\n",
    "- You need to define the function before you can use it.\n",
    "- Then you will call a function and the function will run its code.\n",
    "- The function can return a value back if you want it.\n",
    "- You can send information to the function when you call it.\n",
    "- That is, you can send \"arguments\" to the function (variables with values)\n",
    "- You can define exactly what arguments you must send.\n",
    "- Your function can be flexible and take a varied number of arguments.\n",
    "- Your function can set default values to the arguments."
   ]
  },
  {
   "cell_type": "code",
   "execution_count": 1,
   "id": "9253e65b-295c-4787-b97e-8bb26fe3da4b",
   "metadata": {},
   "outputs": [],
   "source": [
    "# This is a very simple hello, world function\n",
    "def hello_world():\n",
    "    print('hello, world')"
   ]
  },
  {
   "cell_type": "code",
   "execution_count": 2,
   "id": "63d71c5a-b663-4961-82b8-de28c013bf16",
   "metadata": {},
   "outputs": [
    {
     "name": "stdout",
     "output_type": "stream",
     "text": [
      "hello, world\n"
     ]
    }
   ],
   "source": [
    "hello_world()"
   ]
  },
  {
   "cell_type": "code",
   "execution_count": 3,
   "id": "62ee7552-dd42-49bf-b188-5253314bfb8a",
   "metadata": {},
   "outputs": [],
   "source": [
    "# Now create a function that takes two arguments\n",
    "def args2_noreturn(a, b):\n",
    "    print('The two arguments are:', a, b)"
   ]
  },
  {
   "cell_type": "code",
   "execution_count": 4,
   "id": "3fc020b5-cd14-4c71-b4da-ad74a3cd5bf2",
   "metadata": {},
   "outputs": [
    {
     "name": "stdout",
     "output_type": "stream",
     "text": [
      "The two arguments are: 3 8\n"
     ]
    }
   ],
   "source": [
    "args2_noreturn(3, 8)"
   ]
  },
  {
   "cell_type": "code",
   "execution_count": 5,
   "id": "7e6de269-0e0c-473f-9e42-640305934e7c",
   "metadata": {},
   "outputs": [
    {
     "name": "stdout",
     "output_type": "stream",
     "text": [
      "The two arguments are: hello world\n"
     ]
    }
   ],
   "source": [
    "args2_noreturn('hello', 'world')"
   ]
  },
  {
   "cell_type": "code",
   "execution_count": 6,
   "id": "7c285abc-9fc1-4018-a6cb-72878ca2e08f",
   "metadata": {},
   "outputs": [
    {
     "name": "stdout",
     "output_type": "stream",
     "text": [
      "The two arguments are: True 1\n"
     ]
    }
   ],
   "source": [
    "args2_noreturn(True, 1)"
   ]
  },
  {
   "cell_type": "code",
   "execution_count": 7,
   "id": "4e474693-89e0-4137-a133-502e5cbedec6",
   "metadata": {},
   "outputs": [],
   "source": [
    "# A function that takes two numeric argument and returns the sum of the arguments\n",
    "def add_2_numbers(x, y):\n",
    "    z = x + y\n",
    "    return z"
   ]
  },
  {
   "cell_type": "code",
   "execution_count": 8,
   "id": "dbfd0855-59f8-470e-8cec-7918bff19726",
   "metadata": {},
   "outputs": [
    {
     "data": {
      "text/plain": [
       "7"
      ]
     },
     "execution_count": 8,
     "metadata": {},
     "output_type": "execute_result"
    }
   ],
   "source": [
    "add_2_numbers(2, 5)"
   ]
  },
  {
   "cell_type": "code",
   "execution_count": 9,
   "id": "3ccd2d74-6ee4-456a-b158-a637f8483061",
   "metadata": {},
   "outputs": [],
   "source": [
    "my_variable = add_2_numbers(5, 12)"
   ]
  },
  {
   "cell_type": "code",
   "execution_count": 10,
   "id": "13c9eead-ec51-4872-90cb-3656dd83d3ef",
   "metadata": {},
   "outputs": [
    {
     "data": {
      "text/plain": [
       "17"
      ]
     },
     "execution_count": 10,
     "metadata": {},
     "output_type": "execute_result"
    }
   ],
   "source": [
    "my_variable"
   ]
  },
  {
   "cell_type": "code",
   "execution_count": 11,
   "id": "b01a26b8-5159-4ca5-8dd2-18e419bcec80",
   "metadata": {},
   "outputs": [],
   "source": [
    "foo = add_2_numbers(3, 9)"
   ]
  },
  {
   "cell_type": "code",
   "execution_count": 12,
   "id": "cf082fb0-fa3c-42ca-9801-2d19a27776ba",
   "metadata": {},
   "outputs": [
    {
     "data": {
      "text/plain": [
       "12"
      ]
     },
     "execution_count": 12,
     "metadata": {},
     "output_type": "execute_result"
    }
   ],
   "source": [
    "foo"
   ]
  },
  {
   "cell_type": "code",
   "execution_count": 13,
   "id": "bc6f8ce1-529a-4fd4-b3d6-2f7c47dc004c",
   "metadata": {},
   "outputs": [],
   "source": [
    "a = 6\n",
    "b = 20\n",
    "foo = add_2_numbers(a, b)"
   ]
  },
  {
   "cell_type": "code",
   "execution_count": 14,
   "id": "3498117b-6126-4087-aea9-238398a49995",
   "metadata": {},
   "outputs": [
    {
     "data": {
      "text/plain": [
       "26"
      ]
     },
     "execution_count": 14,
     "metadata": {},
     "output_type": "execute_result"
    }
   ],
   "source": [
    "foo"
   ]
  },
  {
   "cell_type": "code",
   "execution_count": 15,
   "id": "d059bf8a-4c8d-4ff1-a9ad-b875ecbd8990",
   "metadata": {},
   "outputs": [],
   "source": [
    "# https://www.geeksforgeeks.org/args-kwargs-python/\n",
    "def flexi_function(*args):\n",
    "    for a in args:\n",
    "        print(a)\n"
   ]
  },
  {
   "cell_type": "code",
   "execution_count": 16,
   "id": "86322b61-1613-4f2f-87af-be85f2ff8ecc",
   "metadata": {},
   "outputs": [
    {
     "name": "stdout",
     "output_type": "stream",
     "text": [
      "2\n",
      "7\n",
      "11\n"
     ]
    }
   ],
   "source": [
    "flexi_function(2, 7, 11)"
   ]
  },
  {
   "cell_type": "code",
   "execution_count": 17,
   "id": "839bf03d-64e3-421e-9664-280e7759913a",
   "metadata": {},
   "outputs": [
    {
     "name": "stdout",
     "output_type": "stream",
     "text": [
      "4\n",
      "5\n"
     ]
    }
   ],
   "source": [
    "flexi_function(4, 5)"
   ]
  },
  {
   "cell_type": "code",
   "execution_count": 18,
   "id": "f1b8ac7c-1dd0-4e3d-ba63-59db7c45497b",
   "metadata": {},
   "outputs": [
    {
     "name": "stdout",
     "output_type": "stream",
     "text": [
      "foo\n",
      "apple\n",
      "3\n"
     ]
    }
   ],
   "source": [
    "flexi_function('foo', 'apple', 3)"
   ]
  },
  {
   "cell_type": "code",
   "execution_count": 19,
   "id": "2ae057c5-2638-48c9-bab7-63be4482dbd9",
   "metadata": {},
   "outputs": [
    {
     "name": "stdout",
     "output_type": "stream",
     "text": [
      "apples\n",
      "oranges\n",
      "bananas\n",
      "lemons\n"
     ]
    }
   ],
   "source": [
    "flexi_function('apples', 'oranges', 'bananas', 'lemons')"
   ]
  },
  {
   "cell_type": "code",
   "execution_count": 20,
   "id": "beb82ce0-0bbe-49f4-87c3-c1d505d167e0",
   "metadata": {},
   "outputs": [
    {
     "name": "stdout",
     "output_type": "stream",
     "text": [
      "apples\n",
      "lemons\n"
     ]
    }
   ],
   "source": [
    "flexi_function('apples', 'lemons')"
   ]
  },
  {
   "cell_type": "code",
   "execution_count": 21,
   "id": "f0f59a64-37ee-428e-9295-de5fb9390fb5",
   "metadata": {},
   "outputs": [],
   "source": [
    "def flexi_example_2(*fruit):\n",
    "    for f in fruit:\n",
    "        print('I got ', f)"
   ]
  },
  {
   "cell_type": "code",
   "execution_count": 22,
   "id": "4ec81cbf-d852-4cd7-8424-825ed1418f4f",
   "metadata": {},
   "outputs": [
    {
     "name": "stdout",
     "output_type": "stream",
     "text": [
      "I got  lemons\n",
      "I got  oranges\n",
      "I got  bananas\n"
     ]
    }
   ],
   "source": [
    "flexi_example_2('lemons', 'oranges', 'bananas')"
   ]
  },
  {
   "cell_type": "code",
   "execution_count": 23,
   "id": "26cb6c16-f87b-44c3-9ad0-3096795393be",
   "metadata": {},
   "outputs": [
    {
     "name": "stdout",
     "output_type": "stream",
     "text": [
      "I got  3\n",
      "I got  4\n",
      "I got  6\n",
      "I got  foo\n",
      "I got  lemons\n"
     ]
    }
   ],
   "source": [
    "flexi_example_2(3, 4, 6, 'foo', 'lemons')"
   ]
  },
  {
   "cell_type": "code",
   "execution_count": 24,
   "id": "39e67170-5fce-4085-82b5-26c4cba1b657",
   "metadata": {},
   "outputs": [],
   "source": [
    "def total(*quantities):\n",
    "    # Sum all the quanities\n",
    "    # Notice we don't need to use the variable 'args', but can use pther names\n",
    "    # like 'quantities' as done here\n",
    "    tot = sum(quantities)\n",
    "    return tot"
   ]
  },
  {
   "cell_type": "code",
   "execution_count": 25,
   "id": "fa2f0547-b072-49b5-a86b-06935f165507",
   "metadata": {},
   "outputs": [
    {
     "data": {
      "text/plain": [
       "9"
      ]
     },
     "execution_count": 25,
     "metadata": {},
     "output_type": "execute_result"
    }
   ],
   "source": [
    "total(1, 3, 5)"
   ]
  },
  {
   "cell_type": "code",
   "execution_count": 26,
   "id": "5e7e6d0d-3030-45e4-bce9-ad2151edf977",
   "metadata": {},
   "outputs": [
    {
     "data": {
      "text/plain": [
       "10"
      ]
     },
     "execution_count": 26,
     "metadata": {},
     "output_type": "execute_result"
    }
   ],
   "source": [
    "total(4, 3, 2, 1)"
   ]
  },
  {
   "cell_type": "code",
   "execution_count": 27,
   "id": "44720774-3459-4114-bf58-d5dc83c9f5b3",
   "metadata": {},
   "outputs": [
    {
     "data": {
      "text/plain": [
       "66"
      ]
     },
     "execution_count": 27,
     "metadata": {},
     "output_type": "execute_result"
    }
   ],
   "source": [
    "total(5, 7, 3, 9, 2, 10, 5, 12, 3, 3, 7)"
   ]
  },
  {
   "cell_type": "code",
   "execution_count": null,
   "id": "7c205562-7dc4-414b-86b5-672901279b5c",
   "metadata": {},
   "outputs": [],
   "source": []
  }
 ],
 "metadata": {
  "kernelspec": {
   "display_name": "Python 3 (ipykernel)",
   "language": "python",
   "name": "python3"
  },
  "language_info": {
   "codemirror_mode": {
    "name": "ipython",
    "version": 3
   },
   "file_extension": ".py",
   "mimetype": "text/x-python",
   "name": "python",
   "nbconvert_exporter": "python",
   "pygments_lexer": "ipython3",
   "version": "3.9.13"
  }
 },
 "nbformat": 4,
 "nbformat_minor": 5
}
